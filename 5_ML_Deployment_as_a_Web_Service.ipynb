{
  "cells": [
    {
      "cell_type": "markdown",
      "source": [
        "# ML Deployment as a Web Service"
      ],
      "metadata": {
        "id": "lMOJZWYpdV4j"
      }
    },
    {
      "cell_type": "markdown",
      "metadata": {
        "id": "jh_9dCBOyeHF"
      },
      "source": [
        "\n",
        "\n",
        "\n",
        "**Flask** is a **web framework** that provides libraries to build lightweight web applications in python. It is developed by Armin Ronacher who leads an international group of python enthusiasts (POCCO).\n",
        "\n"
      ]
    },
    {
      "cell_type": "code",
      "execution_count": null,
      "metadata": {
        "colab": {
          "base_uri": "https://localhost:8080/"
        },
        "id": "5VSzzm8yySFI",
        "outputId": "bb764723-038d-4e3e-c9dc-d1c13c0622ad"
      },
      "outputs": [
        {
          "output_type": "stream",
          "name": "stdout",
          "text": [
            "Collecting pyngrok\n",
            "  Downloading pyngrok-6.0.0.tar.gz (681 kB)\n",
            "\u001b[?25l     \u001b[90m━━━━━━━━━━━━━━━━━━━━━━━━━━━━━━━━━━━━━━━━\u001b[0m \u001b[32m0.0/681.2 kB\u001b[0m \u001b[31m?\u001b[0m eta \u001b[36m-:--:--\u001b[0m\r\u001b[2K     \u001b[91m━━━━━━━━━━━━━━━━━━━━━━━━━━━━━━━━━━━━━\u001b[0m\u001b[91m╸\u001b[0m \u001b[32m675.8/681.2 kB\u001b[0m \u001b[31m27.7 MB/s\u001b[0m eta \u001b[36m0:00:01\u001b[0m\r\u001b[2K     \u001b[90m━━━━━━━━━━━━━━━━━━━━━━━━━━━━━━━━━━━━━━\u001b[0m \u001b[32m681.2/681.2 kB\u001b[0m \u001b[31m18.2 MB/s\u001b[0m eta \u001b[36m0:00:00\u001b[0m\n",
            "\u001b[?25h  Preparing metadata (setup.py) ... \u001b[?25l\u001b[?25hdone\n",
            "Requirement already satisfied: PyYAML in /usr/local/lib/python3.10/dist-packages (from pyngrok) (6.0)\n",
            "Building wheels for collected packages: pyngrok\n",
            "  Building wheel for pyngrok (setup.py) ... \u001b[?25l\u001b[?25hdone\n",
            "  Created wheel for pyngrok: filename=pyngrok-6.0.0-py3-none-any.whl size=19867 sha256=e3f15b80e2162b38f644de7f86d7b90328afdca1057f800a021d89c2ecfbf4f0\n",
            "  Stored in directory: /root/.cache/pip/wheels/5c/42/78/0c3d438d7f5730451a25f7ac6cbf4391759d22a67576ed7c2c\n",
            "Successfully built pyngrok\n",
            "Installing collected packages: pyngrok\n",
            "Successfully installed pyngrok-6.0.0\n"
          ]
        }
      ],
      "source": [
        "!pip install pyngrok"
      ]
    },
    {
      "cell_type": "markdown",
      "metadata": {
        "id": "vxsmQ3zpKEVC"
      },
      "source": [
        "Install"
      ]
    },
    {
      "cell_type": "code",
      "execution_count": null,
      "metadata": {
        "colab": {
          "base_uri": "https://localhost:8080/"
        },
        "id": "F7oMtHnryG2_",
        "outputId": "ea626814-c086-4b4a-b16d-c7301f276890"
      },
      "outputs": [
        {
          "output_type": "stream",
          "name": "stdout",
          "text": [
            "Collecting flask-ngrok\n",
            "  Downloading flask_ngrok-0.0.25-py3-none-any.whl (3.1 kB)\n",
            "Requirement already satisfied: Flask>=0.8 in /usr/local/lib/python3.10/dist-packages (from flask-ngrok) (2.2.5)\n",
            "Requirement already satisfied: requests in /usr/local/lib/python3.10/dist-packages (from flask-ngrok) (2.27.1)\n",
            "Requirement already satisfied: Werkzeug>=2.2.2 in /usr/local/lib/python3.10/dist-packages (from Flask>=0.8->flask-ngrok) (2.3.6)\n",
            "Requirement already satisfied: Jinja2>=3.0 in /usr/local/lib/python3.10/dist-packages (from Flask>=0.8->flask-ngrok) (3.1.2)\n",
            "Requirement already satisfied: itsdangerous>=2.0 in /usr/local/lib/python3.10/dist-packages (from Flask>=0.8->flask-ngrok) (2.1.2)\n",
            "Requirement already satisfied: click>=8.0 in /usr/local/lib/python3.10/dist-packages (from Flask>=0.8->flask-ngrok) (8.1.3)\n",
            "Requirement already satisfied: urllib3<1.27,>=1.21.1 in /usr/local/lib/python3.10/dist-packages (from requests->flask-ngrok) (1.26.16)\n",
            "Requirement already satisfied: certifi>=2017.4.17 in /usr/local/lib/python3.10/dist-packages (from requests->flask-ngrok) (2023.5.7)\n",
            "Requirement already satisfied: charset-normalizer~=2.0.0 in /usr/local/lib/python3.10/dist-packages (from requests->flask-ngrok) (2.0.12)\n",
            "Requirement already satisfied: idna<4,>=2.5 in /usr/local/lib/python3.10/dist-packages (from requests->flask-ngrok) (3.4)\n",
            "Requirement already satisfied: MarkupSafe>=2.0 in /usr/local/lib/python3.10/dist-packages (from Jinja2>=3.0->Flask>=0.8->flask-ngrok) (2.1.3)\n",
            "Installing collected packages: flask-ngrok\n",
            "Successfully installed flask-ngrok-0.0.25\n"
          ]
        }
      ],
      "source": [
        "!pip install flask-ngrok"
      ]
    },
    {
      "cell_type": "code",
      "execution_count": null,
      "metadata": {
        "colab": {
          "base_uri": "https://localhost:8080/"
        },
        "id": "EdYE5YwByZd1",
        "outputId": "abe806d8-2f30-4baf-be95-a15bd68ce86c"
      },
      "outputs": [
        {
          "output_type": "stream",
          "name": "stdout",
          "text": [
            "Authtoken saved to configuration file: /root/.ngrok2/ngrok.yml\n"
          ]
        }
      ],
      "source": [
        "!ngrok authtoken 2Ltrxzr7all8wsh0grVdO7aQTIY_4pGibLxJNd6gHN1TCCP24"
      ]
    },
    {
      "cell_type": "markdown",
      "metadata": {
        "id": "bTQDm1D91Noh"
      },
      "source": [
        "To build the python web application, we need to **import the Flask module**. An object of the Flask class is considered as the WSGI application.\n",
        "\n",
        "We need to pass the name of the current module, i.e. `__name__` as the argument into the Flask constructor.\n",
        "\n",
        "The `route()` function of the Flask class defines the URL mapping of the associated function. The syntax is given below."
      ]
    },
    {
      "cell_type": "markdown",
      "metadata": {
        "id": "jpSRMZgb1fn5"
      },
      "source": [
        "`app.route(rule, `options)   `                                                                                                                                               \n",
        "\n",
        " It accepts the following parameters.\n",
        "\n",
        "**1. rule:**\n",
        "\n",
        "It represents the URL binding with the function.\n",
        "\n",
        "**2. options:**\n",
        "\n",
        "It represents the list of parameters to be associated with the rule object\n",
        "As we can see here, the / URL is bound to the main function which is responsible for returning the server response. It can return a string to be printed on the browser's window or we can use the HTML template to return the HTML file as a response from the server."
      ]
    },
    {
      "cell_type": "markdown",
      "metadata": {
        "id": "lg4ITpf61xkS"
      },
      "source": [
        "Finally, the run method of the Flask class is used to run the flask application on the local development server.\n",
        "\n",
        "The syntax is given below.\n",
        "\n",
        "\n",
        "`app.run(host, port, debug, options) `"
      ]
    },
    {
      "cell_type": "markdown",
      "metadata": {
        "id": "a_JLTTC-L9Pr"
      },
      "source": [
        "1\thost\tThe default hostname is 127.0.0.1, i.e. localhost.\n",
        "\n",
        "2\tport\tThe port number to which the server is listening to. The default port number is 5000.\n",
        "\n",
        "3\tdebug\tThe default is false. It provides debug information if it is set to true.\n",
        "\n",
        "4\toptions\tIt contains the information to be forwarded to the server."
      ]
    },
    {
      "cell_type": "code",
      "execution_count": null,
      "metadata": {
        "colab": {
          "base_uri": "https://localhost:8080/"
        },
        "id": "NobAtcjsy7QJ",
        "outputId": "6e95c05c-101e-496a-dccc-f10ea7a55f51"
      },
      "outputs": [
        {
          "output_type": "stream",
          "name": "stdout",
          "text": [
            " * Serving Flask app '__main__'\n",
            " * Debug mode: off\n"
          ]
        },
        {
          "output_type": "stream",
          "name": "stderr",
          "text": [
            "INFO:werkzeug:\u001b[31m\u001b[1mWARNING: This is a development server. Do not use it in a production deployment. Use a production WSGI server instead.\u001b[0m\n",
            " * Running on http://127.0.0.1:5000\n",
            "INFO:werkzeug:\u001b[33mPress CTRL+C to quit\u001b[0m\n"
          ]
        },
        {
          "output_type": "stream",
          "name": "stdout",
          "text": [
            " * Running on http://73b5-35-230-39-106.ngrok-free.app\n",
            " * Traffic stats available on http://127.0.0.1:4040\n"
          ]
        },
        {
          "output_type": "stream",
          "name": "stderr",
          "text": [
            "INFO:werkzeug:127.0.0.1 - - [05/Jul/2023 03:56:04] \"GET / HTTP/1.1\" 200 -\n",
            "INFO:werkzeug:127.0.0.1 - - [05/Jul/2023 03:56:05] \"\u001b[33mGET /favicon.ico HTTP/1.1\u001b[0m\" 404 -\n"
          ]
        }
      ],
      "source": [
        "# An object of Flask class is  WSGI application.\n",
        "from flask import Flask\n",
        "from flask_ngrok import run_with_ngrok\n",
        "# Flask constructor takes the name of\n",
        "# current module (__name__) as argument.\n",
        "app = Flask(__name__) #creating the Flask class object\n",
        "run_with_ngrok(app)\n",
        "# The route() function of the Flask class is a decorator,\n",
        "# which tells the application which URL should call\n",
        "# the associated function.\n",
        "@app.route('/') #decorator defines the\n",
        "def home():\n",
        "    return \"hello, this is our first flask website\";\n",
        " # run() method of Flask class runs the application\n",
        "    # on the local development server.\n",
        "app.run()"
      ]
    },
    {
      "cell_type": "markdown",
      "metadata": {
        "id": "LGfn0ktq0yS5"
      },
      "source": [
        "**WSGI**\n",
        "\n",
        " It is an acronym for web server gateway interface which is a standard for python web application development. It is considered as the specification for the universal interface between the web server and web application."
      ]
    },
    {
      "cell_type": "markdown",
      "metadata": {
        "id": "7KUmSbe906bg"
      },
      "source": [
        "**Jinja2**\n",
        "\n",
        " is a web template engine which combines a template with a certain data source to render the dynamic web pages."
      ]
    },
    {
      "cell_type": "markdown",
      "metadata": {
        "id": "CO8Dmp_m2NUD"
      },
      "source": [
        "**Flask App routing**\n",
        "\n",
        "App routing is used to map the specific URL with the associated function that is intended to perform some task. It is used to access some particular page."
      ]
    },
    {
      "cell_type": "code",
      "execution_count": null,
      "metadata": {
        "colab": {
          "base_uri": "https://localhost:8080/"
        },
        "id": "NiSzxALQ2ZzD",
        "outputId": "c07f6369-4f37-44f6-e6e4-10fbe0631640"
      },
      "outputs": [
        {
          "output_type": "stream",
          "name": "stdout",
          "text": [
            " * Serving Flask app '__main__'\n",
            " * Debug mode: off\n"
          ]
        },
        {
          "output_type": "stream",
          "name": "stderr",
          "text": [
            "INFO:werkzeug:\u001b[31m\u001b[1mWARNING: This is a development server. Do not use it in a production deployment. Use a production WSGI server instead.\u001b[0m\n",
            " * Running on http://127.0.0.1:5000\n",
            "INFO:werkzeug:\u001b[33mPress CTRL+C to quit\u001b[0m\n"
          ]
        },
        {
          "output_type": "stream",
          "name": "stdout",
          "text": [
            " * Running on http://72c0-35-230-39-106.ngrok-free.app\n",
            " * Traffic stats available on http://127.0.0.1:4040\n"
          ]
        },
        {
          "output_type": "stream",
          "name": "stderr",
          "text": [
            "INFO:werkzeug:127.0.0.1 - - [05/Jul/2023 03:57:51] \"\u001b[33mGET / HTTP/1.1\u001b[0m\" 404 -\n",
            "INFO:werkzeug:127.0.0.1 - - [05/Jul/2023 03:57:52] \"\u001b[33mGET /favicon.ico HTTP/1.1\u001b[0m\" 404 -\n",
            "INFO:werkzeug:127.0.0.1 - - [05/Jul/2023 03:58:03] \"GET /home/Deepak HTTP/1.1\" 200 -\n"
          ]
        }
      ],
      "source": [
        "from flask import Flask\n",
        "app = Flask(__name__)\n",
        "run_with_ngrok(app)\n",
        "@app.route('/home/<name>')\n",
        "def home(name):\n",
        "    return \"Hello,\"+    name;\n",
        "\n",
        "\n",
        "app.run()"
      ]
    },
    {
      "cell_type": "markdown",
      "metadata": {
        "id": "d2NshcbtZ7do"
      },
      "source": [
        "`add_url_rule(rule, endpoint=None,` `view_func=None, `\n",
        "`provide_automatic_options=None, **options)`\n",
        "\n",
        "\n",
        "\n",
        "\n",
        "\n",
        "\n",
        "Register a rule for routing incoming requests and building URLs. The route() decorator is a shortcut to call this with the view_func argument. These are equivalent:\n",
        "\n",
        "`@app.route(\"/\")`\n",
        "\n",
        "`def index():`\n",
        "\n",
        "    ...\n",
        "\n",
        "\n",
        "---\n",
        "\n",
        "\n",
        "`def index():`\n",
        "    ...\n",
        "\n",
        "`app.add_url_rule(\"/\", view_func=index)`"
      ]
    },
    {
      "cell_type": "code",
      "execution_count": null,
      "metadata": {
        "colab": {
          "base_uri": "https://localhost:8080/"
        },
        "id": "mvW0IhJ333q9",
        "outputId": "9ed349a3-cf7d-46ff-9e6d-270d9bdacb1b"
      },
      "outputs": [
        {
          "output_type": "stream",
          "name": "stdout",
          "text": [
            " * Serving Flask app '__main__'\n",
            " * Debug mode: off\n"
          ]
        },
        {
          "output_type": "stream",
          "name": "stderr",
          "text": [
            "INFO:werkzeug:\u001b[31m\u001b[1mWARNING: This is a development server. Do not use it in a production deployment. Use a production WSGI server instead.\u001b[0m\n",
            " * Running on http://127.0.0.1:5000\n",
            "INFO:werkzeug:\u001b[33mPress CTRL+C to quit\u001b[0m\n"
          ]
        },
        {
          "output_type": "stream",
          "name": "stdout",
          "text": [
            " * Running on http://fe92-35-230-39-106.ngrok-free.app\n",
            " * Traffic stats available on http://127.0.0.1:4040\n"
          ]
        },
        {
          "output_type": "stream",
          "name": "stderr",
          "text": [
            "INFO:werkzeug:127.0.0.1 - - [05/Jul/2023 04:01:23] \"\u001b[33mGET / HTTP/1.1\u001b[0m\" 404 -\n",
            "INFO:werkzeug:127.0.0.1 - - [05/Jul/2023 04:01:23] \"\u001b[33mGET /favicon.ico HTTP/1.1\u001b[0m\" 404 -\n",
            "INFO:werkzeug:127.0.0.1 - - [05/Jul/2023 04:01:30] \"GET /about HTTP/1.1\" 200 -\n"
          ]
        }
      ],
      "source": [
        "from flask import Flask\n",
        "app = Flask(__name__)\n",
        "run_with_ngrok(app)\n",
        "def about():\n",
        "    return \"This is about page\";\n",
        "\n",
        "app.add_url_rule(\"/about\",\"about\",about)\n",
        "\n",
        "\n",
        "app.run()"
      ]
    },
    {
      "cell_type": "markdown",
      "metadata": {
        "id": "CwRbdLRB7T_K"
      },
      "source": [
        "**Flask URL Building**\n",
        "\n",
        "`The url_for()` function is used to build a URL to the specific function dynamically. The first argument is the name of the specified function, and then we can pass any number of keyword argument corresponding to the variable part of the URL.\n",
        "\n",
        "This function is useful in the sense that we can avoid hard-coding the URLs into the templates by dynamically building them using this function."
      ]
    },
    {
      "cell_type": "code",
      "execution_count": null,
      "metadata": {
        "colab": {
          "base_uri": "https://localhost:8080/"
        },
        "id": "-lUHp3sm7Dga",
        "outputId": "3c24040b-ca78-48b9-a0eb-3a278d7fee69"
      },
      "outputs": [
        {
          "output_type": "stream",
          "name": "stdout",
          "text": [
            " * Serving Flask app '__main__'\n",
            " * Debug mode: off\n"
          ]
        },
        {
          "output_type": "stream",
          "name": "stderr",
          "text": [
            "INFO:werkzeug:\u001b[31m\u001b[1mWARNING: This is a development server. Do not use it in a production deployment. Use a production WSGI server instead.\u001b[0m\n",
            " * Running on http://127.0.0.1:5000\n",
            "INFO:werkzeug:\u001b[33mPress CTRL+C to quit\u001b[0m\n"
          ]
        },
        {
          "output_type": "stream",
          "name": "stdout",
          "text": [
            " * Running on http://8f98-35-230-39-106.ngrok-free.app\n",
            " * Traffic stats available on http://127.0.0.1:4040\n"
          ]
        },
        {
          "output_type": "stream",
          "name": "stderr",
          "text": [
            "INFO:werkzeug:127.0.0.1 - - [05/Jul/2023 04:04:27] \"\u001b[33mGET / HTTP/1.1\u001b[0m\" 404 -\n",
            "INFO:werkzeug:127.0.0.1 - - [05/Jul/2023 04:04:27] \"\u001b[33mGET /favicon.ico HTTP/1.1\u001b[0m\" 404 -\n",
            "INFO:werkzeug:127.0.0.1 - - [05/Jul/2023 04:04:37] \"\u001b[33mGET /librarian HTTP/1.1\u001b[0m\" 404 -\n",
            "INFO:werkzeug:127.0.0.1 - - [05/Jul/2023 04:04:54] \"GET /librarion HTTP/1.1\" 200 -\n"
          ]
        }
      ],
      "source": [
        "from flask import *\n",
        "\n",
        "app = Flask(__name__)\n",
        "run_with_ngrok(app)\n",
        "@app.route('/admin')\n",
        "def admin():\n",
        "    return 'admin'\n",
        "\n",
        "@app.route('/librarion')\n",
        "def librarion():\n",
        "    return 'librarion'\n",
        "\n",
        "@app.route('/student')\n",
        "def student():\n",
        "    return 'student'\n",
        "\n",
        "@app.route('/user/<name>')\n",
        "def user(name):\n",
        "    if name == 'admin':\n",
        "        return redirect(url_for('admin'))\n",
        "    if name == 'librarion':\n",
        "        return redirect(url_for('librarion'))\n",
        "    if name == 'student':\n",
        "        return redirect(url_for('student'))\n",
        "\n",
        "app.run()"
      ]
    },
    {
      "cell_type": "code",
      "execution_count": null,
      "metadata": {
        "id": "cOejMEVl9MDt"
      },
      "outputs": [],
      "source": [
        "%mkdir templates -p"
      ]
    },
    {
      "cell_type": "code",
      "execution_count": null,
      "metadata": {
        "id": "pMqiFnRmc4O4"
      },
      "outputs": [],
      "source": [
        "%mkdir static -p"
      ]
    },
    {
      "cell_type": "code",
      "execution_count": null,
      "metadata": {
        "id": "AjzTeNr9c1gJ"
      },
      "outputs": [],
      "source": [
        "#import os\n",
        "#os.mkdir('templates')\n",
        "#os.mkdir('static')"
      ]
    },
    {
      "cell_type": "code",
      "execution_count": null,
      "metadata": {
        "colab": {
          "base_uri": "https://localhost:8080/"
        },
        "id": "ueIEvmN69O9d",
        "outputId": "bc3be9eb-71f7-4336-fc02-5d086af6f277"
      },
      "outputs": [
        {
          "output_type": "stream",
          "name": "stdout",
          "text": [
            "Writing templates/login.html\n"
          ]
        }
      ],
      "source": [
        "%%writefile templates/login.html\n",
        "<html>\n",
        "   <body>\n",
        "      <form action = \"{{url_for('login')}}\" method = \"post\">\n",
        "         <table>\n",
        "        <tr><td>Name</td>\n",
        "        <td><input type =\"text\" name =\"uname\"></td></tr>\n",
        "        <tr><td>Password</td>\n",
        "        <td><input type =\"password\" name =\"pass\"></td></tr>\n",
        "        <tr><td><input type = \"submit\"></td></tr>\n",
        "    </table>\n",
        "    {{txt_name}}\n",
        "      </form>\n",
        "   </body>\n",
        "</html>"
      ]
    },
    {
      "cell_type": "code",
      "execution_count": null,
      "metadata": {
        "colab": {
          "base_uri": "https://localhost:8080/"
        },
        "id": "Qya8DLxT9cB9",
        "outputId": "57dae1db-0a90-4c49-9178-3d6f2ba6fa39"
      },
      "outputs": [
        {
          "output_type": "stream",
          "name": "stdout",
          "text": [
            " * Serving Flask app '__main__'\n",
            " * Debug mode: off\n"
          ]
        },
        {
          "output_type": "stream",
          "name": "stderr",
          "text": [
            "INFO:werkzeug:\u001b[31m\u001b[1mWARNING: This is a development server. Do not use it in a production deployment. Use a production WSGI server instead.\u001b[0m\n",
            " * Running on http://127.0.0.1:5000\n",
            "INFO:werkzeug:\u001b[33mPress CTRL+C to quit\u001b[0m\n"
          ]
        },
        {
          "output_type": "stream",
          "name": "stdout",
          "text": [
            " * Running on http://71c1-35-230-39-106.ngrok-free.app\n",
            " * Traffic stats available on http://127.0.0.1:4040\n"
          ]
        },
        {
          "output_type": "stream",
          "name": "stderr",
          "text": [
            "INFO:werkzeug:127.0.0.1 - - [05/Jul/2023 04:09:00] \"GET / HTTP/1.1\" 200 -\n",
            "INFO:werkzeug:127.0.0.1 - - [05/Jul/2023 04:09:01] \"\u001b[33mGET /favicon.ico HTTP/1.1\u001b[0m\" 404 -\n",
            "INFO:werkzeug:127.0.0.1 - - [05/Jul/2023 04:09:11] \"POST /login HTTP/1.1\" 200 -\n"
          ]
        }
      ],
      "source": [
        "from flask import *\n",
        "app = Flask(__name__)\n",
        "run_with_ngrok(app)\n",
        "@app.route('/')\n",
        "def home():\n",
        "  return render_template('login.html')\n",
        "\n",
        "@app.route('/login',methods = ['POST'])\n",
        "def login():\n",
        "      uname=request.form['uname']\n",
        "      passwrd=request.form['pass']\n",
        "      if uname==\"deepak\" and passwrd==\"moud\":\n",
        "          text= \"Welcome %s\" %uname\n",
        "      return render_template('login.html',txt_name=text)\n",
        "\n",
        "app.run()"
      ]
    },
    {
      "cell_type": "code",
      "execution_count": null,
      "metadata": {
        "colab": {
          "base_uri": "https://localhost:8080/"
        },
        "id": "F3qieDA8aKWn",
        "outputId": "89b377ef-cfa1-450b-f3dc-6e86a4823bd6"
      },
      "outputs": [
        {
          "output_type": "stream",
          "name": "stdout",
          "text": [
            "Requirement already satisfied: flask-ngrok in /usr/local/lib/python3.10/dist-packages (0.0.25)\n",
            "Requirement already satisfied: Flask>=0.8 in /usr/local/lib/python3.10/dist-packages (from flask-ngrok) (2.2.5)\n",
            "Requirement already satisfied: requests in /usr/local/lib/python3.10/dist-packages (from flask-ngrok) (2.27.1)\n",
            "Requirement already satisfied: Werkzeug>=2.2.2 in /usr/local/lib/python3.10/dist-packages (from Flask>=0.8->flask-ngrok) (2.3.6)\n",
            "Requirement already satisfied: Jinja2>=3.0 in /usr/local/lib/python3.10/dist-packages (from Flask>=0.8->flask-ngrok) (3.1.2)\n",
            "Requirement already satisfied: itsdangerous>=2.0 in /usr/local/lib/python3.10/dist-packages (from Flask>=0.8->flask-ngrok) (2.1.2)\n",
            "Requirement already satisfied: click>=8.0 in /usr/local/lib/python3.10/dist-packages (from Flask>=0.8->flask-ngrok) (8.1.3)\n",
            "Requirement already satisfied: urllib3<1.27,>=1.21.1 in /usr/local/lib/python3.10/dist-packages (from requests->flask-ngrok) (1.26.16)\n",
            "Requirement already satisfied: certifi>=2017.4.17 in /usr/local/lib/python3.10/dist-packages (from requests->flask-ngrok) (2023.5.7)\n",
            "Requirement already satisfied: charset-normalizer~=2.0.0 in /usr/local/lib/python3.10/dist-packages (from requests->flask-ngrok) (2.0.12)\n",
            "Requirement already satisfied: idna<4,>=2.5 in /usr/local/lib/python3.10/dist-packages (from requests->flask-ngrok) (3.4)\n",
            "Requirement already satisfied: MarkupSafe>=2.0 in /usr/local/lib/python3.10/dist-packages (from Jinja2>=3.0->Flask>=0.8->flask-ngrok) (2.1.3)\n",
            " * Serving Flask app '__main__'\n",
            " * Debug mode: off\n"
          ]
        },
        {
          "output_type": "stream",
          "name": "stderr",
          "text": [
            "INFO:werkzeug:\u001b[31m\u001b[1mWARNING: This is a development server. Do not use it in a production deployment. Use a production WSGI server instead.\u001b[0m\n",
            " * Running on http://127.0.0.1:5000\n",
            "INFO:werkzeug:\u001b[33mPress CTRL+C to quit\u001b[0m\n"
          ]
        },
        {
          "output_type": "stream",
          "name": "stdout",
          "text": [
            " * Running on http://8cbb-35-230-39-106.ngrok-free.app\n",
            " * Traffic stats available on http://127.0.0.1:4040\n"
          ]
        },
        {
          "output_type": "stream",
          "name": "stderr",
          "text": [
            "INFO:werkzeug:127.0.0.1 - - [05/Jul/2023 04:10:50] \"\u001b[33mGET / HTTP/1.1\u001b[0m\" 404 -\n",
            "INFO:werkzeug:127.0.0.1 - - [05/Jul/2023 04:11:10] \"GET /hello/Deepak HTTP/1.1\" 200 -\n"
          ]
        }
      ],
      "source": [
        "!pip install flask-ngrok\n",
        "from flask_ngrok import run_with_ngrok\n",
        "from flask import Flask\n",
        "app = Flask(__name__)\n",
        "run_with_ngrok(app)\n",
        "\n",
        "@app.route('/hello/<name>')\n",
        "def hello_name(name):\n",
        "   return 'Hello %s!' % name\n",
        "\n",
        "@app.route('/uppname/<name>')\n",
        "def uppname(name):\n",
        "   return \"<h1> Upper Case:{} </h1>\".format(name.upper())\n",
        "\n",
        "if __name__ == '__main__':\n",
        "   app.run()"
      ]
    },
    {
      "cell_type": "code",
      "execution_count": null,
      "metadata": {
        "id": "OGcEwRSWdVys"
      },
      "outputs": [],
      "source": [
        "v1='''\n",
        "<!DOCTYPE html>\n",
        "<html>\n",
        "<body bgcolor=red>\n",
        "\n",
        "<h1>My First Heading</h1>\n",
        "<p>My first paragraph.</p>\n",
        "\n",
        "</body>\n",
        "</html>\n",
        "'''\n",
        "file=open(\"templates/text.html\",\"w\")\n",
        "file.write(v1)\n",
        "file.close()"
      ]
    },
    {
      "cell_type": "markdown",
      "metadata": {
        "id": "wj9iZMmKdad6"
      },
      "source": [
        "**now we laod the app to the url through flask**"
      ]
    },
    {
      "cell_type": "code",
      "execution_count": null,
      "metadata": {
        "colab": {
          "base_uri": "https://localhost:8080/"
        },
        "id": "ixCuZCq0eCK3",
        "outputId": "76f6bf57-bd10-4cfc-c0f6-3347edc0a3b9"
      },
      "outputs": [
        {
          "output_type": "stream",
          "name": "stdout",
          "text": [
            "Requirement already satisfied: flask-ngrok in /usr/local/lib/python3.10/dist-packages (0.0.25)\n",
            "Requirement already satisfied: Flask>=0.8 in /usr/local/lib/python3.10/dist-packages (from flask-ngrok) (2.2.5)\n",
            "Requirement already satisfied: requests in /usr/local/lib/python3.10/dist-packages (from flask-ngrok) (2.27.1)\n",
            "Requirement already satisfied: Werkzeug>=2.2.2 in /usr/local/lib/python3.10/dist-packages (from Flask>=0.8->flask-ngrok) (2.3.6)\n",
            "Requirement already satisfied: Jinja2>=3.0 in /usr/local/lib/python3.10/dist-packages (from Flask>=0.8->flask-ngrok) (3.1.2)\n",
            "Requirement already satisfied: itsdangerous>=2.0 in /usr/local/lib/python3.10/dist-packages (from Flask>=0.8->flask-ngrok) (2.1.2)\n",
            "Requirement already satisfied: click>=8.0 in /usr/local/lib/python3.10/dist-packages (from Flask>=0.8->flask-ngrok) (8.1.3)\n",
            "Requirement already satisfied: urllib3<1.27,>=1.21.1 in /usr/local/lib/python3.10/dist-packages (from requests->flask-ngrok) (1.26.16)\n",
            "Requirement already satisfied: certifi>=2017.4.17 in /usr/local/lib/python3.10/dist-packages (from requests->flask-ngrok) (2023.5.7)\n",
            "Requirement already satisfied: charset-normalizer~=2.0.0 in /usr/local/lib/python3.10/dist-packages (from requests->flask-ngrok) (2.0.12)\n",
            "Requirement already satisfied: idna<4,>=2.5 in /usr/local/lib/python3.10/dist-packages (from requests->flask-ngrok) (3.4)\n",
            "Requirement already satisfied: MarkupSafe>=2.0 in /usr/local/lib/python3.10/dist-packages (from Jinja2>=3.0->Flask>=0.8->flask-ngrok) (2.1.3)\n",
            " * Serving Flask app '__main__'\n",
            " * Debug mode: off\n"
          ]
        },
        {
          "output_type": "stream",
          "name": "stderr",
          "text": [
            "INFO:werkzeug:\u001b[31m\u001b[1mWARNING: This is a development server. Do not use it in a production deployment. Use a production WSGI server instead.\u001b[0m\n",
            " * Running on http://127.0.0.1:5000\n",
            "INFO:werkzeug:\u001b[33mPress CTRL+C to quit\u001b[0m\n"
          ]
        },
        {
          "output_type": "stream",
          "name": "stdout",
          "text": [
            " * Running on http://5b04-35-230-39-106.ngrok-free.app\n",
            " * Traffic stats available on http://127.0.0.1:4040\n"
          ]
        },
        {
          "output_type": "stream",
          "name": "stderr",
          "text": [
            "INFO:werkzeug:127.0.0.1 - - [05/Jul/2023 04:11:49] \"GET / HTTP/1.1\" 200 -\n",
            "INFO:werkzeug:127.0.0.1 - - [05/Jul/2023 04:11:50] \"\u001b[33mGET /favicon.ico HTTP/1.1\u001b[0m\" 404 -\n"
          ]
        }
      ],
      "source": [
        "!pip install flask-ngrok\n",
        "from flask import Flask,render_template\n",
        "from flask_ngrok import run_with_ngrok\n",
        "app = Flask(__name__)\n",
        "run_with_ngrok(app)\n",
        "\n",
        "@app.route('/')\n",
        "def text():\n",
        "   return render_template('text.html')\n",
        "if __name__ == '__main__':\n",
        "\n",
        "\n",
        "  app.run()"
      ]
    },
    {
      "cell_type": "markdown",
      "metadata": {
        "id": "DVQCbaH9g-bX"
      },
      "source": [
        "**how to pass variable name**"
      ]
    },
    {
      "cell_type": "code",
      "execution_count": null,
      "metadata": {
        "id": "5jbHkfdlhCaI"
      },
      "outputs": [],
      "source": [
        "text='''\n",
        "<!DOCTYPE html>\n",
        "<html>\n",
        "<body>\n",
        "<h1> Passing the value through flask script </h1>\n",
        "<H1> Hii my name is: {{txt_name}}</H1>\n",
        "\n",
        "</body>\n",
        "</html>\n",
        "'''\n",
        "file=open(\"templates/textpassvariable.html\",\"w\")\n",
        "file.write(text)\n",
        "file.close()"
      ]
    },
    {
      "cell_type": "code",
      "execution_count": null,
      "metadata": {
        "colab": {
          "base_uri": "https://localhost:8080/"
        },
        "id": "OvLQNBIshKBp",
        "outputId": "cd44f9a6-7997-45aa-f8c8-8e5b4ae6bfb9"
      },
      "outputs": [
        {
          "output_type": "stream",
          "name": "stdout",
          "text": [
            "Requirement already satisfied: flask-ngrok in /usr/local/lib/python3.10/dist-packages (0.0.25)\n",
            "Requirement already satisfied: Flask>=0.8 in /usr/local/lib/python3.10/dist-packages (from flask-ngrok) (2.2.5)\n",
            "Requirement already satisfied: requests in /usr/local/lib/python3.10/dist-packages (from flask-ngrok) (2.27.1)\n",
            "Requirement already satisfied: Werkzeug>=2.2.2 in /usr/local/lib/python3.10/dist-packages (from Flask>=0.8->flask-ngrok) (2.3.6)\n",
            "Requirement already satisfied: Jinja2>=3.0 in /usr/local/lib/python3.10/dist-packages (from Flask>=0.8->flask-ngrok) (3.1.2)\n",
            "Requirement already satisfied: itsdangerous>=2.0 in /usr/local/lib/python3.10/dist-packages (from Flask>=0.8->flask-ngrok) (2.1.2)\n",
            "Requirement already satisfied: click>=8.0 in /usr/local/lib/python3.10/dist-packages (from Flask>=0.8->flask-ngrok) (8.1.3)\n",
            "Requirement already satisfied: urllib3<1.27,>=1.21.1 in /usr/local/lib/python3.10/dist-packages (from requests->flask-ngrok) (1.26.16)\n",
            "Requirement already satisfied: certifi>=2017.4.17 in /usr/local/lib/python3.10/dist-packages (from requests->flask-ngrok) (2023.5.7)\n",
            "Requirement already satisfied: charset-normalizer~=2.0.0 in /usr/local/lib/python3.10/dist-packages (from requests->flask-ngrok) (2.0.12)\n",
            "Requirement already satisfied: idna<4,>=2.5 in /usr/local/lib/python3.10/dist-packages (from requests->flask-ngrok) (3.4)\n",
            "Requirement already satisfied: MarkupSafe>=2.0 in /usr/local/lib/python3.10/dist-packages (from Jinja2>=3.0->Flask>=0.8->flask-ngrok) (2.1.3)\n",
            " * Serving Flask app '__main__'\n",
            " * Debug mode: off\n"
          ]
        },
        {
          "output_type": "stream",
          "name": "stderr",
          "text": [
            "INFO:werkzeug:\u001b[31m\u001b[1mWARNING: This is a development server. Do not use it in a production deployment. Use a production WSGI server instead.\u001b[0m\n",
            " * Running on http://127.0.0.1:5000\n",
            "INFO:werkzeug:\u001b[33mPress CTRL+C to quit\u001b[0m\n"
          ]
        },
        {
          "output_type": "stream",
          "name": "stdout",
          "text": [
            " * Running on http://a1d9-35-230-39-106.ngrok-free.app\n",
            " * Traffic stats available on http://127.0.0.1:4040\n"
          ]
        },
        {
          "output_type": "stream",
          "name": "stderr",
          "text": [
            "INFO:werkzeug:127.0.0.1 - - [05/Jul/2023 04:12:32] \"GET / HTTP/1.1\" 200 -\n",
            "INFO:werkzeug:127.0.0.1 - - [05/Jul/2023 04:12:33] \"\u001b[33mGET /favicon.ico HTTP/1.1\u001b[0m\" 404 -\n",
            "INFO:werkzeug:127.0.0.1 - - [05/Jul/2023 04:13:03] \"GET /about HTTP/1.1\" 200 -\n"
          ]
        }
      ],
      "source": [
        "!pip install flask-ngrok\n",
        "from flask import Flask,render_template\n",
        "from flask_ngrok import run_with_ngrok\n",
        "app = Flask(__name__)\n",
        "run_with_ngrok(app)\n",
        "\n",
        "@app.route('/')\n",
        "def text():\n",
        "   return render_template('text.html')\n",
        "\n",
        "@app.route('/about')\n",
        "def about():\n",
        "   name='Deepak Moud'\n",
        "   return render_template('textpassvariable.html',txt_name=name)\n",
        "if __name__ == '__main__':\n",
        "  app.run()"
      ]
    },
    {
      "cell_type": "markdown",
      "metadata": {
        "id": "S9Bos4-DrHJx"
      },
      "source": [
        "**Exercise based on Routing :\n",
        "create a simple web page based on the follwing criteria:**\n",
        "\n",
        "**if  string entered by use does not end in a y, add on a y to the end of the name\n",
        "example : spot convert it into spoty**\n",
        "\n",
        "\n",
        "**if string enetered by use does end  in a y , then replace it with  iful instead\n",
        "Example : spoty convert it into spotiful**\n",
        "\n"
      ]
    },
    {
      "cell_type": "code",
      "execution_count": null,
      "metadata": {
        "colab": {
          "base_uri": "https://localhost:8080/"
        },
        "id": "hcoSZFl4rEGc",
        "outputId": "6b692794-0f71-4064-9f64-ccc87b547c28"
      },
      "outputs": [
        {
          "output_type": "stream",
          "name": "stdout",
          "text": [
            "Requirement already satisfied: flask-ngrok in /usr/local/lib/python3.10/dist-packages (0.0.25)\n",
            "Requirement already satisfied: Flask>=0.8 in /usr/local/lib/python3.10/dist-packages (from flask-ngrok) (2.2.5)\n",
            "Requirement already satisfied: requests in /usr/local/lib/python3.10/dist-packages (from flask-ngrok) (2.27.1)\n",
            "Requirement already satisfied: Werkzeug>=2.2.2 in /usr/local/lib/python3.10/dist-packages (from Flask>=0.8->flask-ngrok) (2.3.6)\n",
            "Requirement already satisfied: Jinja2>=3.0 in /usr/local/lib/python3.10/dist-packages (from Flask>=0.8->flask-ngrok) (3.1.2)\n",
            "Requirement already satisfied: itsdangerous>=2.0 in /usr/local/lib/python3.10/dist-packages (from Flask>=0.8->flask-ngrok) (2.1.2)\n",
            "Requirement already satisfied: click>=8.0 in /usr/local/lib/python3.10/dist-packages (from Flask>=0.8->flask-ngrok) (8.1.3)\n",
            "Requirement already satisfied: urllib3<1.27,>=1.21.1 in /usr/local/lib/python3.10/dist-packages (from requests->flask-ngrok) (1.26.16)\n",
            "Requirement already satisfied: certifi>=2017.4.17 in /usr/local/lib/python3.10/dist-packages (from requests->flask-ngrok) (2023.5.7)\n",
            "Requirement already satisfied: charset-normalizer~=2.0.0 in /usr/local/lib/python3.10/dist-packages (from requests->flask-ngrok) (2.0.12)\n",
            "Requirement already satisfied: idna<4,>=2.5 in /usr/local/lib/python3.10/dist-packages (from requests->flask-ngrok) (3.4)\n",
            "Requirement already satisfied: MarkupSafe>=2.0 in /usr/local/lib/python3.10/dist-packages (from Jinja2>=3.0->Flask>=0.8->flask-ngrok) (2.1.3)\n",
            " * Serving Flask app '__main__'\n",
            " * Debug mode: off\n"
          ]
        },
        {
          "output_type": "stream",
          "name": "stderr",
          "text": [
            "INFO:werkzeug:\u001b[31m\u001b[1mWARNING: This is a development server. Do not use it in a production deployment. Use a production WSGI server instead.\u001b[0m\n",
            " * Running on http://127.0.0.1:5000\n",
            "INFO:werkzeug:\u001b[33mPress CTRL+C to quit\u001b[0m\n"
          ]
        },
        {
          "output_type": "stream",
          "name": "stdout",
          "text": [
            " * Running on http://d37b-35-230-39-106.ngrok-free.app\n",
            " * Traffic stats available on http://127.0.0.1:4040\n"
          ]
        },
        {
          "output_type": "stream",
          "name": "stderr",
          "text": [
            "INFO:werkzeug:127.0.0.1 - - [05/Jul/2023 04:13:51] \"GET / HTTP/1.1\" 200 -\n",
            "INFO:werkzeug:127.0.0.1 - - [05/Jul/2023 04:13:52] \"\u001b[33mGET /favicon.ico HTTP/1.1\u001b[0m\" 404 -\n",
            "INFO:werkzeug:127.0.0.1 - - [05/Jul/2023 04:14:01] \"\u001b[33mGET /deee HTTP/1.1\u001b[0m\" 404 -\n",
            "INFO:werkzeug:127.0.0.1 - - [05/Jul/2023 04:14:22] \"GET /modify/dee HTTP/1.1\" 200 -\n"
          ]
        }
      ],
      "source": [
        "!pip install flask-ngrok\n",
        "from flask import Flask,request\n",
        "from flask_ngrok import run_with_ngrok\n",
        "app = Flask(__name__)\n",
        "run_with_ngrok(app)\n",
        "\n",
        "@app.route('/')\n",
        "def index():\n",
        "    return \"<h1>Hello User, Please enter the string in URL</h1>\"\n",
        "\n",
        "@app.route('/modify/<str>')\n",
        "def modifystr(str):\n",
        "  newstr=\"\"\n",
        "  if str[-1]=='y' or str[-1]=='Y':\n",
        "    newstr=str[:-1] +'iful'\n",
        "  else:\n",
        "    newstr= str+'y'\n",
        "  return \"<h1> Your  Actual string is :{}  & Modify string is: {}</h1>\".format(str,newstr)\n",
        "\n",
        "\n",
        "if __name__ == '__main__':\n",
        "    app.run()\n"
      ]
    },
    {
      "cell_type": "markdown",
      "metadata": {
        "id": "h44NVnpGtRri"
      },
      "source": [
        "The url_for() function is very useful for dynamically building a URL for a specific function. The function accepts the name of a function as first argument, and one or more keyword arguments, each corresponding to the variable part of URL. That easily allow us to connect other templates or pages or files within our templates"
      ]
    },
    {
      "cell_type": "code",
      "execution_count": null,
      "metadata": {
        "id": "ZoGxNpkstccR"
      },
      "outputs": [],
      "source": [
        "var='''\n",
        "<!DOCTYPE html>\n",
        "<html>\n",
        "<body bgcolor=cyan>\n",
        "\n",
        "<a href=\"{{url_for('home')}}\">Photos</a>\n",
        "\n",
        "</body>\n",
        "</html>\n",
        "'''\n",
        "file=open(\"templates/text.html\",\"w\")\n",
        "file.write(var)\n",
        "file.close()"
      ]
    },
    {
      "cell_type": "code",
      "execution_count": null,
      "metadata": {
        "colab": {
          "base_uri": "https://localhost:8080/"
        },
        "id": "ua5nFgUrtjLK",
        "outputId": "0efcbac3-f3b7-4bcd-93ea-78c89f204d04"
      },
      "outputs": [
        {
          "output_type": "stream",
          "name": "stdout",
          "text": [
            "Requirement already satisfied: flask-ngrok in /usr/local/lib/python3.10/dist-packages (0.0.25)\n",
            "Requirement already satisfied: Flask>=0.8 in /usr/local/lib/python3.10/dist-packages (from flask-ngrok) (2.2.5)\n",
            "Requirement already satisfied: requests in /usr/local/lib/python3.10/dist-packages (from flask-ngrok) (2.27.1)\n",
            "Requirement already satisfied: Werkzeug>=2.2.2 in /usr/local/lib/python3.10/dist-packages (from Flask>=0.8->flask-ngrok) (2.3.6)\n",
            "Requirement already satisfied: Jinja2>=3.0 in /usr/local/lib/python3.10/dist-packages (from Flask>=0.8->flask-ngrok) (3.1.2)\n",
            "Requirement already satisfied: itsdangerous>=2.0 in /usr/local/lib/python3.10/dist-packages (from Flask>=0.8->flask-ngrok) (2.1.2)\n",
            "Requirement already satisfied: click>=8.0 in /usr/local/lib/python3.10/dist-packages (from Flask>=0.8->flask-ngrok) (8.1.3)\n",
            "Requirement already satisfied: urllib3<1.27,>=1.21.1 in /usr/local/lib/python3.10/dist-packages (from requests->flask-ngrok) (1.26.16)\n",
            "Requirement already satisfied: certifi>=2017.4.17 in /usr/local/lib/python3.10/dist-packages (from requests->flask-ngrok) (2023.5.7)\n",
            "Requirement already satisfied: charset-normalizer~=2.0.0 in /usr/local/lib/python3.10/dist-packages (from requests->flask-ngrok) (2.0.12)\n",
            "Requirement already satisfied: idna<4,>=2.5 in /usr/local/lib/python3.10/dist-packages (from requests->flask-ngrok) (3.4)\n",
            "Requirement already satisfied: MarkupSafe>=2.0 in /usr/local/lib/python3.10/dist-packages (from Jinja2>=3.0->Flask>=0.8->flask-ngrok) (2.1.3)\n",
            " * Serving Flask app '__main__'\n",
            " * Debug mode: off\n"
          ]
        },
        {
          "output_type": "stream",
          "name": "stderr",
          "text": [
            "INFO:werkzeug:\u001b[31m\u001b[1mWARNING: This is a development server. Do not use it in a production deployment. Use a production WSGI server instead.\u001b[0m\n",
            " * Running on http://127.0.0.1:5000\n",
            "INFO:werkzeug:\u001b[33mPress CTRL+C to quit\u001b[0m\n"
          ]
        },
        {
          "output_type": "stream",
          "name": "stdout",
          "text": [
            " * Running on http://7871-35-230-39-106.ngrok-free.app\n",
            " * Traffic stats available on http://127.0.0.1:4040\n"
          ]
        },
        {
          "output_type": "stream",
          "name": "stderr",
          "text": [
            "INFO:werkzeug:127.0.0.1 - - [05/Jul/2023 04:15:39] \"GET / HTTP/1.1\" 200 -\n",
            "INFO:werkzeug:127.0.0.1 - - [05/Jul/2023 04:15:41] \"GET / HTTP/1.1\" 200 -\n"
          ]
        }
      ],
      "source": [
        "!pip install flask-ngrok\n",
        "from flask import Flask,render_template\n",
        "from flask_ngrok import run_with_ngrok\n",
        "app = Flask(__name__)\n",
        "run_with_ngrok(app)\n",
        "\n",
        "@app.route('/')\n",
        "def home():\n",
        "   return render_template('text.html')\n",
        "\n",
        "\n",
        "if __name__ == '__main__':\n",
        "  app.run()"
      ]
    },
    {
      "cell_type": "code",
      "execution_count": null,
      "metadata": {
        "colab": {
          "base_uri": "https://localhost:8080/",
          "height": 73
        },
        "id": "_arG9gquo0d_",
        "outputId": "f8c33c73-d52a-4c45-a29a-88f22a2ce266"
      },
      "outputs": [
        {
          "output_type": "display_data",
          "data": {
            "text/plain": [
              "<IPython.core.display.HTML object>"
            ],
            "text/html": [
              "\n",
              "     <input type=\"file\" id=\"files-ef09c9bc-bcc3-4013-bd8a-b6389d1f0965\" name=\"files[]\" multiple disabled\n",
              "        style=\"border:none\" />\n",
              "     <output id=\"result-ef09c9bc-bcc3-4013-bd8a-b6389d1f0965\">\n",
              "      Upload widget is only available when the cell has been executed in the\n",
              "      current browser session. Please rerun this cell to enable.\n",
              "      </output>\n",
              "      <script>// Copyright 2017 Google LLC\n",
              "//\n",
              "// Licensed under the Apache License, Version 2.0 (the \"License\");\n",
              "// you may not use this file except in compliance with the License.\n",
              "// You may obtain a copy of the License at\n",
              "//\n",
              "//      http://www.apache.org/licenses/LICENSE-2.0\n",
              "//\n",
              "// Unless required by applicable law or agreed to in writing, software\n",
              "// distributed under the License is distributed on an \"AS IS\" BASIS,\n",
              "// WITHOUT WARRANTIES OR CONDITIONS OF ANY KIND, either express or implied.\n",
              "// See the License for the specific language governing permissions and\n",
              "// limitations under the License.\n",
              "\n",
              "/**\n",
              " * @fileoverview Helpers for google.colab Python module.\n",
              " */\n",
              "(function(scope) {\n",
              "function span(text, styleAttributes = {}) {\n",
              "  const element = document.createElement('span');\n",
              "  element.textContent = text;\n",
              "  for (const key of Object.keys(styleAttributes)) {\n",
              "    element.style[key] = styleAttributes[key];\n",
              "  }\n",
              "  return element;\n",
              "}\n",
              "\n",
              "// Max number of bytes which will be uploaded at a time.\n",
              "const MAX_PAYLOAD_SIZE = 100 * 1024;\n",
              "\n",
              "function _uploadFiles(inputId, outputId) {\n",
              "  const steps = uploadFilesStep(inputId, outputId);\n",
              "  const outputElement = document.getElementById(outputId);\n",
              "  // Cache steps on the outputElement to make it available for the next call\n",
              "  // to uploadFilesContinue from Python.\n",
              "  outputElement.steps = steps;\n",
              "\n",
              "  return _uploadFilesContinue(outputId);\n",
              "}\n",
              "\n",
              "// This is roughly an async generator (not supported in the browser yet),\n",
              "// where there are multiple asynchronous steps and the Python side is going\n",
              "// to poll for completion of each step.\n",
              "// This uses a Promise to block the python side on completion of each step,\n",
              "// then passes the result of the previous step as the input to the next step.\n",
              "function _uploadFilesContinue(outputId) {\n",
              "  const outputElement = document.getElementById(outputId);\n",
              "  const steps = outputElement.steps;\n",
              "\n",
              "  const next = steps.next(outputElement.lastPromiseValue);\n",
              "  return Promise.resolve(next.value.promise).then((value) => {\n",
              "    // Cache the last promise value to make it available to the next\n",
              "    // step of the generator.\n",
              "    outputElement.lastPromiseValue = value;\n",
              "    return next.value.response;\n",
              "  });\n",
              "}\n",
              "\n",
              "/**\n",
              " * Generator function which is called between each async step of the upload\n",
              " * process.\n",
              " * @param {string} inputId Element ID of the input file picker element.\n",
              " * @param {string} outputId Element ID of the output display.\n",
              " * @return {!Iterable<!Object>} Iterable of next steps.\n",
              " */\n",
              "function* uploadFilesStep(inputId, outputId) {\n",
              "  const inputElement = document.getElementById(inputId);\n",
              "  inputElement.disabled = false;\n",
              "\n",
              "  const outputElement = document.getElementById(outputId);\n",
              "  outputElement.innerHTML = '';\n",
              "\n",
              "  const pickedPromise = new Promise((resolve) => {\n",
              "    inputElement.addEventListener('change', (e) => {\n",
              "      resolve(e.target.files);\n",
              "    });\n",
              "  });\n",
              "\n",
              "  const cancel = document.createElement('button');\n",
              "  inputElement.parentElement.appendChild(cancel);\n",
              "  cancel.textContent = 'Cancel upload';\n",
              "  const cancelPromise = new Promise((resolve) => {\n",
              "    cancel.onclick = () => {\n",
              "      resolve(null);\n",
              "    };\n",
              "  });\n",
              "\n",
              "  // Wait for the user to pick the files.\n",
              "  const files = yield {\n",
              "    promise: Promise.race([pickedPromise, cancelPromise]),\n",
              "    response: {\n",
              "      action: 'starting',\n",
              "    }\n",
              "  };\n",
              "\n",
              "  cancel.remove();\n",
              "\n",
              "  // Disable the input element since further picks are not allowed.\n",
              "  inputElement.disabled = true;\n",
              "\n",
              "  if (!files) {\n",
              "    return {\n",
              "      response: {\n",
              "        action: 'complete',\n",
              "      }\n",
              "    };\n",
              "  }\n",
              "\n",
              "  for (const file of files) {\n",
              "    const li = document.createElement('li');\n",
              "    li.append(span(file.name, {fontWeight: 'bold'}));\n",
              "    li.append(span(\n",
              "        `(${file.type || 'n/a'}) - ${file.size} bytes, ` +\n",
              "        `last modified: ${\n",
              "            file.lastModifiedDate ? file.lastModifiedDate.toLocaleDateString() :\n",
              "                                    'n/a'} - `));\n",
              "    const percent = span('0% done');\n",
              "    li.appendChild(percent);\n",
              "\n",
              "    outputElement.appendChild(li);\n",
              "\n",
              "    const fileDataPromise = new Promise((resolve) => {\n",
              "      const reader = new FileReader();\n",
              "      reader.onload = (e) => {\n",
              "        resolve(e.target.result);\n",
              "      };\n",
              "      reader.readAsArrayBuffer(file);\n",
              "    });\n",
              "    // Wait for the data to be ready.\n",
              "    let fileData = yield {\n",
              "      promise: fileDataPromise,\n",
              "      response: {\n",
              "        action: 'continue',\n",
              "      }\n",
              "    };\n",
              "\n",
              "    // Use a chunked sending to avoid message size limits. See b/62115660.\n",
              "    let position = 0;\n",
              "    do {\n",
              "      const length = Math.min(fileData.byteLength - position, MAX_PAYLOAD_SIZE);\n",
              "      const chunk = new Uint8Array(fileData, position, length);\n",
              "      position += length;\n",
              "\n",
              "      const base64 = btoa(String.fromCharCode.apply(null, chunk));\n",
              "      yield {\n",
              "        response: {\n",
              "          action: 'append',\n",
              "          file: file.name,\n",
              "          data: base64,\n",
              "        },\n",
              "      };\n",
              "\n",
              "      let percentDone = fileData.byteLength === 0 ?\n",
              "          100 :\n",
              "          Math.round((position / fileData.byteLength) * 100);\n",
              "      percent.textContent = `${percentDone}% done`;\n",
              "\n",
              "    } while (position < fileData.byteLength);\n",
              "  }\n",
              "\n",
              "  // All done.\n",
              "  yield {\n",
              "    response: {\n",
              "      action: 'complete',\n",
              "    }\n",
              "  };\n",
              "}\n",
              "\n",
              "scope.google = scope.google || {};\n",
              "scope.google.colab = scope.google.colab || {};\n",
              "scope.google.colab._files = {\n",
              "  _uploadFiles,\n",
              "  _uploadFilesContinue,\n",
              "};\n",
              "})(self);\n",
              "</script> "
            ]
          },
          "metadata": {}
        },
        {
          "output_type": "stream",
          "name": "stdout",
          "text": [
            "Saving Deepak Moud (2).jpeg to Deepak Moud (2).jpeg\n"
          ]
        }
      ],
      "source": [
        "from google.colab import files\n",
        "uploaded= files.upload()\n"
      ]
    },
    {
      "cell_type": "markdown",
      "metadata": {
        "id": "nwqYryBOKIkw"
      },
      "source": [
        "A web application often requires a static file such as a javascript file or a CSS file supporting the display of a web page. Usually, the web server is configured to serve them for you, but during the development, these files are served from static folder in your package or next to your module and it will be available at /static on the application.\n",
        "\n",
        "A special endpoint ‘static’ is used to generate URL for static files."
      ]
    },
    {
      "cell_type": "code",
      "execution_count": null,
      "metadata": {
        "id": "rApytL-Dtiic"
      },
      "outputs": [],
      "source": [
        "var='''\n",
        "<!DOCTYPE html>\n",
        "<html>\n",
        "<body bgcolor=cyan>\n",
        "\n",
        "<a href=\"{{url_for('static',filename='Deepak Moud (2).jpeg')}}\">Photos</a>\n",
        "\n",
        "</body>\n",
        "</html>\n",
        "'''\n",
        "file=open(\"templates/koala.html\",\"w\")\n",
        "file.write(var)\n",
        "file.close()"
      ]
    },
    {
      "cell_type": "code",
      "execution_count": null,
      "metadata": {
        "colab": {
          "base_uri": "https://localhost:8080/"
        },
        "id": "fwQlRzc1u3gQ",
        "outputId": "f8f4b29b-9a1f-4c77-93c1-511732d829c0"
      },
      "outputs": [
        {
          "output_type": "stream",
          "name": "stdout",
          "text": [
            "Requirement already satisfied: flask-ngrok in /usr/local/lib/python3.10/dist-packages (0.0.25)\n",
            "Requirement already satisfied: Flask>=0.8 in /usr/local/lib/python3.10/dist-packages (from flask-ngrok) (2.2.5)\n",
            "Requirement already satisfied: requests in /usr/local/lib/python3.10/dist-packages (from flask-ngrok) (2.27.1)\n",
            "Requirement already satisfied: Werkzeug>=2.2.2 in /usr/local/lib/python3.10/dist-packages (from Flask>=0.8->flask-ngrok) (2.3.6)\n",
            "Requirement already satisfied: Jinja2>=3.0 in /usr/local/lib/python3.10/dist-packages (from Flask>=0.8->flask-ngrok) (3.1.2)\n",
            "Requirement already satisfied: itsdangerous>=2.0 in /usr/local/lib/python3.10/dist-packages (from Flask>=0.8->flask-ngrok) (2.1.2)\n",
            "Requirement already satisfied: click>=8.0 in /usr/local/lib/python3.10/dist-packages (from Flask>=0.8->flask-ngrok) (8.1.3)\n",
            "Requirement already satisfied: urllib3<1.27,>=1.21.1 in /usr/local/lib/python3.10/dist-packages (from requests->flask-ngrok) (1.26.16)\n",
            "Requirement already satisfied: certifi>=2017.4.17 in /usr/local/lib/python3.10/dist-packages (from requests->flask-ngrok) (2023.5.7)\n",
            "Requirement already satisfied: charset-normalizer~=2.0.0 in /usr/local/lib/python3.10/dist-packages (from requests->flask-ngrok) (2.0.12)\n",
            "Requirement already satisfied: idna<4,>=2.5 in /usr/local/lib/python3.10/dist-packages (from requests->flask-ngrok) (3.4)\n",
            "Requirement already satisfied: MarkupSafe>=2.0 in /usr/local/lib/python3.10/dist-packages (from Jinja2>=3.0->Flask>=0.8->flask-ngrok) (2.1.3)\n",
            " * Serving Flask app '__main__'\n",
            " * Debug mode: off\n"
          ]
        },
        {
          "output_type": "stream",
          "name": "stderr",
          "text": [
            "INFO:werkzeug:\u001b[31m\u001b[1mWARNING: This is a development server. Do not use it in a production deployment. Use a production WSGI server instead.\u001b[0m\n",
            " * Running on http://127.0.0.1:5000\n",
            "INFO:werkzeug:\u001b[33mPress CTRL+C to quit\u001b[0m\n"
          ]
        },
        {
          "output_type": "stream",
          "name": "stdout",
          "text": [
            " * Running on http://78e3-35-230-39-106.ngrok-free.app\n",
            " * Traffic stats available on http://127.0.0.1:4040\n"
          ]
        },
        {
          "output_type": "stream",
          "name": "stderr",
          "text": [
            "INFO:werkzeug:127.0.0.1 - - [05/Jul/2023 04:20:19] \"GET / HTTP/1.1\" 200 -\n",
            "INFO:werkzeug:127.0.0.1 - - [05/Jul/2023 04:20:21] \"GET /static/Deepak%20Moud%20(2).jpeg HTTP/1.1\" 200 -\n"
          ]
        }
      ],
      "source": [
        "!pip install flask-ngrok\n",
        "from flask import Flask,render_template\n",
        "from flask_ngrok import run_with_ngrok\n",
        "app = Flask(__name__)\n",
        "run_with_ngrok(app)\n",
        "\n",
        "@app.route('/')\n",
        "def home():\n",
        "   return render_template('koala.html')\n",
        "\n",
        "\n",
        "\n",
        "if __name__ == '__main__':\n",
        "  app.run()"
      ]
    },
    {
      "cell_type": "markdown",
      "metadata": {
        "id": "waZzPoyNvk5b"
      },
      "source": [
        "A web application often requires a static file such as a javascript file or a CSS file supporting the display of a web page. Usually, the web server is configured to serve them for you, but during the development, these files are served from static folder in your package or next to your module and it will be available at /static on the application.\n",
        "\n",
        "A special endpoint ‘static’ is used to generate URL for static files.\n",
        "\n",
        "In the following example, a javascript function defined in hello.js is called on OnClick event of HTML button in index.html, which is rendered on ‘/’ URL of the Flask application."
      ]
    },
    {
      "cell_type": "code",
      "execution_count": null,
      "metadata": {
        "id": "Vg_CO_cRv2pv"
      },
      "outputs": [],
      "source": [
        "var='''\n",
        "function sayHello()\n",
        "{\n",
        "   alert(\"Welcome on Board\")\n",
        "}\n",
        "'''\n",
        "file=open(\"static/hello.js\",\"w\")\n",
        "file.write(var)\n",
        "file.close()"
      ]
    },
    {
      "cell_type": "code",
      "execution_count": null,
      "metadata": {
        "id": "7C6-xSwDtb3C"
      },
      "outputs": [],
      "source": [
        "var='''\n",
        "<html>\n",
        "   <head>\n",
        "      <script type = \"text/javascript\"\n",
        "         src = \"{{ url_for('static', filename = 'hello.js') }}\" ></script>\n",
        "   </head>\n",
        "\n",
        "   <body>\n",
        "      <input type = \"button\" onclick = \"sayHello()\" value = \"Say Hello\" />\n",
        "   </body>\n",
        "</html>\n",
        "'''\n",
        "file=open(\"templates/index.html\",\"w\")\n",
        "file.write(var)\n",
        "file.close()"
      ]
    },
    {
      "cell_type": "code",
      "execution_count": null,
      "metadata": {
        "colab": {
          "base_uri": "https://localhost:8080/"
        },
        "id": "_0udFfIxv91T",
        "outputId": "a3d668c1-c46b-4f06-a7eb-bd061ff82759"
      },
      "outputs": [
        {
          "output_type": "stream",
          "name": "stdout",
          "text": [
            "Requirement already satisfied: flask-ngrok in /usr/local/lib/python3.10/dist-packages (0.0.25)\n",
            "Requirement already satisfied: Flask>=0.8 in /usr/local/lib/python3.10/dist-packages (from flask-ngrok) (2.2.5)\n",
            "Requirement already satisfied: requests in /usr/local/lib/python3.10/dist-packages (from flask-ngrok) (2.27.1)\n",
            "Requirement already satisfied: Werkzeug>=2.2.2 in /usr/local/lib/python3.10/dist-packages (from Flask>=0.8->flask-ngrok) (2.3.6)\n",
            "Requirement already satisfied: Jinja2>=3.0 in /usr/local/lib/python3.10/dist-packages (from Flask>=0.8->flask-ngrok) (3.1.2)\n",
            "Requirement already satisfied: itsdangerous>=2.0 in /usr/local/lib/python3.10/dist-packages (from Flask>=0.8->flask-ngrok) (2.1.2)\n",
            "Requirement already satisfied: click>=8.0 in /usr/local/lib/python3.10/dist-packages (from Flask>=0.8->flask-ngrok) (8.1.3)\n",
            "Requirement already satisfied: urllib3<1.27,>=1.21.1 in /usr/local/lib/python3.10/dist-packages (from requests->flask-ngrok) (1.26.16)\n",
            "Requirement already satisfied: certifi>=2017.4.17 in /usr/local/lib/python3.10/dist-packages (from requests->flask-ngrok) (2023.5.7)\n",
            "Requirement already satisfied: charset-normalizer~=2.0.0 in /usr/local/lib/python3.10/dist-packages (from requests->flask-ngrok) (2.0.12)\n",
            "Requirement already satisfied: idna<4,>=2.5 in /usr/local/lib/python3.10/dist-packages (from requests->flask-ngrok) (3.4)\n",
            "Requirement already satisfied: MarkupSafe>=2.0 in /usr/local/lib/python3.10/dist-packages (from Jinja2>=3.0->Flask>=0.8->flask-ngrok) (2.1.3)\n",
            " * Serving Flask app '__main__'\n",
            " * Debug mode: off\n"
          ]
        },
        {
          "output_type": "stream",
          "name": "stderr",
          "text": [
            "INFO:werkzeug:\u001b[31m\u001b[1mWARNING: This is a development server. Do not use it in a production deployment. Use a production WSGI server instead.\u001b[0m\n",
            " * Running on http://127.0.0.1:5000\n",
            "INFO:werkzeug:\u001b[33mPress CTRL+C to quit\u001b[0m\n"
          ]
        },
        {
          "output_type": "stream",
          "name": "stdout",
          "text": [
            " * Running on http://9298-35-230-39-106.ngrok-free.app\n",
            " * Traffic stats available on http://127.0.0.1:4040\n"
          ]
        },
        {
          "output_type": "stream",
          "name": "stderr",
          "text": [
            "INFO:werkzeug:127.0.0.1 - - [05/Jul/2023 04:21:47] \"GET / HTTP/1.1\" 200 -\n",
            "INFO:werkzeug:127.0.0.1 - - [05/Jul/2023 04:21:47] \"GET /static/hello.js HTTP/1.1\" 200 -\n",
            "INFO:werkzeug:127.0.0.1 - - [05/Jul/2023 04:21:48] \"\u001b[33mGET /favicon.ico HTTP/1.1\u001b[0m\" 404 -\n"
          ]
        }
      ],
      "source": [
        "!pip install flask-ngrok\n",
        "from flask import Flask,render_template\n",
        "from flask_ngrok import run_with_ngrok\n",
        "app = Flask(__name__)\n",
        "run_with_ngrok(app)\n",
        "\n",
        "@app.route(\"/\")\n",
        "def index():\n",
        "   return render_template(\"index.html\")\n",
        "\n",
        "if __name__ == '__main__':\n",
        "   app.run()"
      ]
    },
    {
      "cell_type": "code",
      "execution_count": null,
      "metadata": {
        "id": "ZBaBsZZVtb5i"
      },
      "outputs": [],
      "source": [
        "var='''\n",
        "<!DOCTYPE html>\n",
        "<html>\n",
        "<body bgcolor=cyan>\n",
        "\n",
        "<h1>{{mylist}}</h1>\n",
        "\n",
        "</body>\n",
        "</html>\n",
        "'''\n",
        "file=open(\"templates/mylist.html\",\"w\")\n",
        "file.write(var)\n",
        "file.close()"
      ]
    },
    {
      "cell_type": "code",
      "execution_count": null,
      "metadata": {
        "colab": {
          "base_uri": "https://localhost:8080/"
        },
        "id": "mM2_7H-EwZ8v",
        "outputId": "03e70f25-4ab2-49d8-d488-3086600109e9"
      },
      "outputs": [
        {
          "output_type": "stream",
          "name": "stdout",
          "text": [
            "Looking in indexes: https://pypi.org/simple, https://us-python.pkg.dev/colab-wheels/public/simple/\n",
            "Requirement already satisfied: flask-ngrok in /usr/local/lib/python3.8/dist-packages (0.0.25)\n",
            "Requirement already satisfied: Flask>=0.8 in /usr/local/lib/python3.8/dist-packages (from flask-ngrok) (1.1.4)\n",
            "Requirement already satisfied: requests in /usr/local/lib/python3.8/dist-packages (from flask-ngrok) (2.23.0)\n",
            "Requirement already satisfied: click<8.0,>=5.1 in /usr/local/lib/python3.8/dist-packages (from Flask>=0.8->flask-ngrok) (7.1.2)\n",
            "Requirement already satisfied: itsdangerous<2.0,>=0.24 in /usr/local/lib/python3.8/dist-packages (from Flask>=0.8->flask-ngrok) (1.1.0)\n",
            "Requirement already satisfied: Werkzeug<2.0,>=0.15 in /usr/local/lib/python3.8/dist-packages (from Flask>=0.8->flask-ngrok) (1.0.1)\n",
            "Requirement already satisfied: Jinja2<3.0,>=2.10.1 in /usr/local/lib/python3.8/dist-packages (from Flask>=0.8->flask-ngrok) (2.11.3)\n",
            "Requirement already satisfied: MarkupSafe>=0.23 in /usr/local/lib/python3.8/dist-packages (from Jinja2<3.0,>=2.10.1->Flask>=0.8->flask-ngrok) (2.0.1)\n",
            "Requirement already satisfied: idna<3,>=2.5 in /usr/local/lib/python3.8/dist-packages (from requests->flask-ngrok) (2.10)\n",
            "Requirement already satisfied: urllib3!=1.25.0,!=1.25.1,<1.26,>=1.21.1 in /usr/local/lib/python3.8/dist-packages (from requests->flask-ngrok) (1.24.3)\n",
            "Requirement already satisfied: certifi>=2017.4.17 in /usr/local/lib/python3.8/dist-packages (from requests->flask-ngrok) (2022.12.7)\n",
            "Requirement already satisfied: chardet<4,>=3.0.2 in /usr/local/lib/python3.8/dist-packages (from requests->flask-ngrok) (3.0.4)\n",
            " * Serving Flask app \"__main__\" (lazy loading)\n",
            " * Environment: production\n",
            "\u001b[31m   WARNING: This is a development server. Do not use it in a production deployment.\u001b[0m\n",
            "\u001b[2m   Use a production WSGI server instead.\u001b[0m\n",
            " * Debug mode: off\n"
          ]
        },
        {
          "output_type": "stream",
          "name": "stderr",
          "text": [
            "INFO:werkzeug: * Running on http://127.0.0.1:5000/ (Press CTRL+C to quit)\n"
          ]
        },
        {
          "output_type": "stream",
          "name": "stdout",
          "text": [
            " * Running on http://4780-35-194-87-156.ngrok.io\n",
            " * Traffic stats available on http://127.0.0.1:4040\n"
          ]
        },
        {
          "output_type": "stream",
          "name": "stderr",
          "text": [
            "INFO:werkzeug:127.0.0.1 - - [26/Dec/2022 13:57:12] \"\u001b[37mGET / HTTP/1.1\u001b[0m\" 200 -\n",
            "INFO:werkzeug:127.0.0.1 - - [26/Dec/2022 13:57:12] \"\u001b[33mGET /favicon.ico HTTP/1.1\u001b[0m\" 404 -\n"
          ]
        }
      ],
      "source": [
        "!pip install flask-ngrok\n",
        "from flask import Flask,render_template\n",
        "from flask_ngrok import run_with_ngrok\n",
        "app = Flask(__name__)\n",
        "run_with_ngrok(app)\n",
        "\n",
        "@app.route(\"/\")\n",
        "def index():\n",
        "  listvar=[1,2,3,4,5]\n",
        "  return render_template(\"mylist.html\",mylist=listvar)\n",
        "\n",
        "\n",
        "\n",
        "if __name__ == '__main__':\n",
        "\n",
        "   app.run()"
      ]
    },
    {
      "cell_type": "code",
      "execution_count": null,
      "metadata": {
        "colab": {
          "base_uri": "https://localhost:8080/"
        },
        "id": "EhsC6k2cyOdF",
        "outputId": "d2c24188-c961-4ab6-c1c0-b1414df23717"
      },
      "outputs": [
        {
          "output_type": "stream",
          "name": "stdout",
          "text": [
            "Overwriting templates/index.html\n"
          ]
        }
      ],
      "source": [
        "%%writefile templates/index.html\n",
        "<!DOCTYPE html>\n",
        "<html >\n",
        "<!--From https://codepen.io/frytyler/pen/EGdtg-->\n",
        "<head>\n",
        "<title>Flask Application</title>\n",
        "<meta charset=\"UTF-8\">\n",
        "\n",
        "<link href='https://fonts.googleapis.com/css?family=Open+Sans+Condensed:300' rel='stylesheet' type='text/css'>\n",
        "<!-- JavaScript Bundle with Popper -->\n",
        "<script src=\"https://cdn.jsdelivr.net/npm/bootstrap@5.2.0/dist/js/bootstrap.bundle.min.js\" integrity=\"sha384-A3rJD856KowSb7dwlZdYEkO39Gagi7vIsF0jrRAoQmDKKtQBHUuLZ9AsSv4jD4Xa\" crossorigin=\"anonymous\"></script>\n",
        "<link href=\"https://cdn.jsdelivr.net/npm/bootstrap@5.0.0-beta1/dist/css/bootstrap.min.css\" rel=\"stylesheet\" integrity=\"sha384-giJF6kkoqNQ00vy+HMDP7azOuL0xtbfIcaT9wjKHr8RbDVddVHyTfAAsrekwKmP1\" crossorigin=\"anonymous\">\n",
        "<style><!DOCTYPE html>\n",
        "\n",
        "h1 {text-align: center;}\n",
        "h2 {text-align: center;}\n",
        "h3 {text-align: center;}\n",
        "p {text-align: center;}\n",
        "div {text-align: center;}\n",
        "</style>\n",
        "</head>\n",
        "\n",
        "<body>\n",
        "\n",
        "<div class=\"\" style=\"background-color:blue;\" >\n",
        "<div class=\"clearfix\">\n",
        "\n",
        "<div class=\"col-md-12\">\n",
        "<center><p style=\"font-size:40px;color:white;margin-top:10px;\">ML Deployment as Web service</p></center>\n",
        "<center><p style=\"font-size:30px;color:white;margin-top:10px;\">Demo lecture on Deployment</p></center>\n",
        "<center><p style=\"font-size:25px;color:white;margin-top:10px;\">Flask Deployment</p></center>\n",
        "</div>\n",
        "</div>\n",
        "</div>\n",
        "\n",
        "<div class=\"login\">\n",
        "<h2 >Flask Experiment</h2>\n",
        "<h4>Developed by Deepak Moud</h4>\n",
        "<!-- Main Input For Receiving Query to our ML -->\n",
        "<form action=\"{{ url_for('predict')}}\"method=\"get\">\n",
        "<div class=\"form-floating mb-3\">\n",
        "<input type=\"text\" class=\"form-control\" id=\"user\" name=\"user\"  placeholder=\"Deepak Moud\" required=\"required\">\n",
        "<label for=\"floatingInput\">Enter Your name</label>\n",
        "\n",
        "\n",
        "</div>\n",
        "<br>\n",
        "\n",
        "<br>\n",
        "<button type=\"submit\" class=\"btn btn-primary btn-block btn-large\">Click Me</button>\n",
        "</form>\n",
        "<br>\n",
        "<br>\n",
        "{{ prediction_text }}\n",
        "\n",
        "</div>\n",
        "\n",
        "<div class=\"\" style=\"background-color:blue;\" >\n",
        "<div class=\"clearfix\">\n",
        "\n",
        "<div class=\"col-md-12\">\n",
        " <center><p style=\"font-size:25px;color:white;margin-top:20px;\">Demo Session on how to Deploy  ML Model using Flask </p></center>\n",
        "</div>\n",
        "</div>\n",
        "</div>\n",
        "</body>\n",
        "</html>\n"
      ]
    },
    {
      "cell_type": "code",
      "execution_count": null,
      "metadata": {
        "colab": {
          "base_uri": "https://localhost:8080/"
        },
        "id": "hmnIvFDw2kwU",
        "outputId": "0ba38677-74d2-44a5-a989-dda31e1a1dfb"
      },
      "outputs": [
        {
          "output_type": "stream",
          "name": "stdout",
          "text": [
            " * Serving Flask app '__main__'\n",
            " * Debug mode: off\n"
          ]
        },
        {
          "output_type": "stream",
          "name": "stderr",
          "text": [
            "INFO:werkzeug:\u001b[31m\u001b[1mWARNING: This is a development server. Do not use it in a production deployment. Use a production WSGI server instead.\u001b[0m\n",
            " * Running on http://127.0.0.1:5000\n",
            "INFO:werkzeug:\u001b[33mPress CTRL+C to quit\u001b[0m\n"
          ]
        },
        {
          "output_type": "stream",
          "name": "stdout",
          "text": [
            " * Running on http://5606-35-230-39-106.ngrok-free.app\n",
            " * Traffic stats available on http://127.0.0.1:4040\n"
          ]
        },
        {
          "output_type": "stream",
          "name": "stderr",
          "text": [
            "INFO:werkzeug:127.0.0.1 - - [05/Jul/2023 04:24:08] \"GET / HTTP/1.1\" 200 -\n",
            "INFO:werkzeug:127.0.0.1 - - [05/Jul/2023 04:24:09] \"\u001b[33mGET /favicon.ico HTTP/1.1\u001b[0m\" 404 -\n",
            "INFO:werkzeug:127.0.0.1 - - [05/Jul/2023 04:24:21] \"GET /predict?user=Deepak+Moud HTTP/1.1\" 200 -\n"
          ]
        }
      ],
      "source": [
        "\n",
        "import numpy as np\n",
        "from flask import Flask, request, jsonify, render_template\n",
        "from flask_ngrok import run_with_ngrok\n",
        "import pickle\n",
        "\n",
        "\n",
        "app = Flask(__name__)\n",
        "\n",
        "run_with_ngrok(app)\n",
        "\n",
        "@app.route('/')\n",
        "def home():\n",
        "\n",
        "    return render_template(\"index.html\")\n",
        "\n",
        "@app.route('/predict',methods=['GET'])\n",
        "def predict():\n",
        "\n",
        "\n",
        "    '''\n",
        "    For rendering results on HTML GUI\n",
        "    '''\n",
        "    name = request.args.get('user')\n",
        "    text= name\n",
        "\n",
        "    return render_template('index.html', prediction_text='Welcome  '+ str(text))\n",
        "\n",
        "\n",
        "app.run()"
      ]
    },
    {
      "cell_type": "markdown",
      "source": [
        "http://jainuniversity.pythonanywhere.com"
      ],
      "metadata": {
        "id": "7iuQOj79Uh7M"
      }
    },
    {
      "cell_type": "markdown",
      "source": [
        "# ML Deployment using Flask"
      ],
      "metadata": {
        "id": "8kWBL4KqCA6r"
      }
    },
    {
      "cell_type": "code",
      "execution_count": null,
      "metadata": {
        "colab": {
          "base_uri": "https://localhost:8080/"
        },
        "id": "BKUUJU1MCg1r",
        "outputId": "9b0d96b6-7caa-4401-c149-8d0359245624"
      },
      "outputs": [
        {
          "output_type": "stream",
          "name": "stdout",
          "text": [
            "Drive already mounted at /content/drive; to attempt to forcibly remount, call drive.mount(\"/content/drive\", force_remount=True).\n"
          ]
        }
      ],
      "source": [
        "# Mounting Google Drive\n",
        "from google.colab import drive\n",
        "drive.mount('/content/drive')"
      ]
    },
    {
      "cell_type": "markdown",
      "metadata": {
        "id": "RAsssTs-dzRs"
      },
      "source": [
        "Python Flask is a popular web framework for developing web applications"
      ]
    },
    {
      "cell_type": "markdown",
      "metadata": {
        "id": "oez3jrfCHlKI"
      },
      "source": [
        "Flask is a micro web framework written in Python. It is classified as a microframework because it does not require particular tools or libraries."
      ]
    },
    {
      "cell_type": "markdown",
      "metadata": {
        "id": "ZGaxg3VrfugX"
      },
      "source": [
        "google colab provides VM(virtual machine) hence we do not access the local-host. We will use it in to a public URL using ngrok."
      ]
    },
    {
      "cell_type": "code",
      "execution_count": null,
      "metadata": {
        "id": "1lHyVGtLCekX",
        "colab": {
          "base_uri": "https://localhost:8080/"
        },
        "outputId": "5012324e-5d4f-4004-f7da-64382afc605d"
      },
      "outputs": [
        {
          "output_type": "stream",
          "name": "stdout",
          "text": [
            "Requirement already satisfied: flask-ngrok in /usr/local/lib/python3.10/dist-packages (0.0.25)\n",
            "Requirement already satisfied: Flask>=0.8 in /usr/local/lib/python3.10/dist-packages (from flask-ngrok) (2.2.5)\n",
            "Requirement already satisfied: requests in /usr/local/lib/python3.10/dist-packages (from flask-ngrok) (2.27.1)\n",
            "Requirement already satisfied: Werkzeug>=2.2.2 in /usr/local/lib/python3.10/dist-packages (from Flask>=0.8->flask-ngrok) (2.3.6)\n",
            "Requirement already satisfied: Jinja2>=3.0 in /usr/local/lib/python3.10/dist-packages (from Flask>=0.8->flask-ngrok) (3.1.2)\n",
            "Requirement already satisfied: itsdangerous>=2.0 in /usr/local/lib/python3.10/dist-packages (from Flask>=0.8->flask-ngrok) (2.1.2)\n",
            "Requirement already satisfied: click>=8.0 in /usr/local/lib/python3.10/dist-packages (from Flask>=0.8->flask-ngrok) (8.1.3)\n",
            "Requirement already satisfied: urllib3<1.27,>=1.21.1 in /usr/local/lib/python3.10/dist-packages (from requests->flask-ngrok) (1.26.16)\n",
            "Requirement already satisfied: certifi>=2017.4.17 in /usr/local/lib/python3.10/dist-packages (from requests->flask-ngrok) (2023.5.7)\n",
            "Requirement already satisfied: charset-normalizer~=2.0.0 in /usr/local/lib/python3.10/dist-packages (from requests->flask-ngrok) (2.0.12)\n",
            "Requirement already satisfied: idna<4,>=2.5 in /usr/local/lib/python3.10/dist-packages (from requests->flask-ngrok) (3.4)\n",
            "Requirement already satisfied: MarkupSafe>=2.0 in /usr/local/lib/python3.10/dist-packages (from Jinja2>=3.0->Flask>=0.8->flask-ngrok) (2.1.3)\n"
          ]
        }
      ],
      "source": [
        "!pip install flask-ngrok"
      ]
    },
    {
      "cell_type": "markdown",
      "metadata": {
        "id": "Tl3wJ16qIDqf"
      },
      "source": [
        "The reason is that the flask server creates a server that runs locally on the allocated runtime on google colab as localhost. In order to expose the server to the outside traffic or to make the server accessible outside the runtime globally on HTTP, ngrok is used."
      ]
    },
    {
      "cell_type": "markdown",
      "metadata": {
        "id": "5ILpOC8FQYnW"
      },
      "source": [
        "we will use templates to render HTML which will display in the user’s browser. This folder contains html form file index.html."
      ]
    },
    {
      "cell_type": "code",
      "execution_count": null,
      "metadata": {
        "colab": {
          "base_uri": "https://localhost:8080/"
        },
        "id": "yu3f8hGJ7x1R",
        "outputId": "de35bba4-f01f-4404-94d9-66bd20a14457"
      },
      "outputs": [
        {
          "output_type": "stream",
          "name": "stdout",
          "text": [
            "Requirement already satisfied: pyngrok in /usr/local/lib/python3.10/dist-packages (6.0.0)\n",
            "Requirement already satisfied: PyYAML in /usr/local/lib/python3.10/dist-packages (from pyngrok) (6.0)\n"
          ]
        }
      ],
      "source": [
        "!pip install pyngrok"
      ]
    },
    {
      "cell_type": "code",
      "execution_count": null,
      "metadata": {
        "colab": {
          "base_uri": "https://localhost:8080/"
        },
        "id": "ZBVT9GXk7JqY",
        "outputId": "ccea3c02-cdb5-4baf-8526-2947141ebfda"
      },
      "outputs": [
        {
          "output_type": "stream",
          "name": "stdout",
          "text": [
            "Authtoken saved to configuration file: /root/.ngrok2/ngrok.yml\n"
          ]
        }
      ],
      "source": [
        "!ngrok authtoken 2Ltrxzr7all8wsh0grVdO7aQTIY_4pGibLxJNd6gHN1TCCP24"
      ]
    },
    {
      "cell_type": "code",
      "execution_count": null,
      "metadata": {
        "id": "lS-02ze2CjPr"
      },
      "outputs": [],
      "source": [
        "%mkdir templates -p"
      ]
    },
    {
      "cell_type": "code",
      "execution_count": null,
      "metadata": {
        "colab": {
          "base_uri": "https://localhost:8080/"
        },
        "id": "7elSZ_KNCq-s",
        "outputId": "987495e0-2c16-49ec-c79c-7921e7c74568"
      },
      "outputs": [
        {
          "output_type": "stream",
          "name": "stdout",
          "text": [
            "Writing templates/index.html\n"
          ]
        }
      ],
      "source": [
        "%%writefile templates/index.html\n",
        "<!DOCTYPE html>\n",
        "<html >\n",
        "<!--From https://codepen.io/frytyler/pen/EGdtg-->\n",
        "<head>\n",
        "<title>Machine Learning  Linear Regression Deployment</title>\n",
        "<meta charset=\"UTF-8\">\n",
        "\n",
        "<link href='https://fonts.googleapis.com/css?family=Open+Sans+Condensed:300' rel='stylesheet' type='text/css'>\n",
        "<!-- JavaScript Bundle with Popper -->\n",
        "<script src=\"https://cdn.jsdelivr.net/npm/bootstrap@5.2.0/dist/js/bootstrap.bundle.min.js\" integrity=\"sha384-A3rJD856KowSb7dwlZdYEkO39Gagi7vIsF0jrRAoQmDKKtQBHUuLZ9AsSv4jD4Xa\" crossorigin=\"anonymous\"></script>\n",
        "<link href=\"https://cdn.jsdelivr.net/npm/bootstrap@5.0.0-beta1/dist/css/bootstrap.min.css\" rel=\"stylesheet\" integrity=\"sha384-giJF6kkoqNQ00vy+HMDP7azOuL0xtbfIcaT9wjKHr8RbDVddVHyTfAAsrekwKmP1\" crossorigin=\"anonymous\">\n",
        "<style><!DOCTYPE html>\n",
        "\n",
        "h1 {text-align: center;}\n",
        "h2 {text-align: center;}\n",
        "h3 {text-align: center;}\n",
        "p {text-align: center;}\n",
        "div {text-align: center;}\n",
        "</style>\n",
        "</head>\n",
        "\n",
        "<body>\n",
        "\n",
        "<div class=\"\" style=\"background-color:grey;\" >\n",
        "<div class=\"clearfix\">\n",
        "\n",
        "<div class=\"col-md-12\">\n",
        "<center><p style=\"font-size:40px;color:white;margin-top:10px;\">Session on Linear Regression</p></center>\n",
        "<center><p style=\"font-size:30px;color:white;margin-top:10px;\">Project Deployment</p></center>\n",
        "<center><p style=\"font-size:25px;color:white;margin-top:10px;\">Estimation of salary on the bais of Experiance</p></center>\n",
        "</div>\n",
        "</div>\n",
        "</div>\n",
        "\n",
        "<div class=\"login\">\n",
        "<h2 >Linear Regression for salary Prediction </h2>\n",
        "\n",
        "<!-- Main Input For Receiving Query to our ML -->\n",
        "<form action=\"{{ url_for('predict')}}\"method=\"get\">\n",
        "\n",
        "<div class=\"form-floating mb-3\">\n",
        "<input type=\"number\" class=\"form-control\" id=\"exp\" name=\"exp\" step=0.01 placeholder=\"Experiance in years\" min=\"1.0\" max=\"100.0\" required=\"required\" />\n",
        "<label for=\"floatingInput\">Enter Experiance in Years</label>\n",
        "</div>\n",
        "<br>\n",
        "\n",
        "<br>\n",
        "<button type=\"submit\" class=\"btn btn-primary btn-block btn-large\">Predict salary</button>\n",
        "<br>\n",
        "\n",
        "</form>\n",
        "<br>\n",
        "<br>\n",
        "{{ prediction_text }}\n",
        "\n",
        "</div>\n",
        "\n",
        "<div class=\"\" style=\"background-color:orange;\" >\n",
        "<div class=\"clearfix\">\n",
        "\n",
        "<div class=\"col-md-12\">\n",
        "\n",
        " <center><p style=\"font-size:25px;color:white;margin-top:20px;\">Developed by Deepak Moud </p></center>\n",
        "</div>\n",
        "</div>\n",
        "</div>\n",
        "</body>\n",
        "</html>"
      ]
    },
    {
      "cell_type": "markdown",
      "metadata": {
        "id": "s-apgi6okY_X"
      },
      "source": [
        "pyngrok is a Python wrapper for ngrok that manages its own binary, making ngrok available via a convenient Python API.\n",
        "\n",
        "ngrok is a reverse proxy tool that opens secure tunnels from public URLs to localhost, perfect for exposing local web servers, building webhook integrations, enabling SSH access, testing chatbots, demoing from your own machine, and more, and its made even more powerful with native Python integration through pyngrok."
      ]
    },
    {
      "cell_type": "markdown",
      "metadata": {
        "id": "zSE4NrX2RQ4F"
      },
      "source": [
        " 1. import the libraries"
      ]
    },
    {
      "cell_type": "markdown",
      "metadata": {
        "id": "JHXVOtx1Rehz"
      },
      "source": [
        "2. app=Flask(__name__) create an instance of flask."
      ]
    },
    {
      "cell_type": "markdown",
      "metadata": {
        "id": "YmEvEt9ARtAd"
      },
      "source": [
        "3. @app.route('/') is used to tell flask what url should trigger the function home() and in the function home we use render_template('index.html') to display the script index.html in the browser."
      ]
    },
    {
      "cell_type": "code",
      "source": [
        "import urllib.request\n",
        "import pickle\n",
        "\n",
        "# URL of the pickle file on GitHub\n",
        "url = \"https://github.com/deepakmoud/Internship-Linear-regression/raw/main/linearregression.pkl\"\n",
        "\n",
        "# Download the pickle file\n",
        "response = urllib.request.urlopen(url)\n",
        "\n",
        "# Load the pickle file\n",
        "data = pickle.load(response)\n",
        "\n",
        "# Close the response\n",
        "response.close()\n",
        "\n",
        "# Now you can use the data from the pickle file\n",
        "# ..."
      ],
      "metadata": {
        "id": "27gqT3WOlV03"
      },
      "execution_count": null,
      "outputs": []
    },
    {
      "cell_type": "code",
      "execution_count": null,
      "metadata": {
        "colab": {
          "base_uri": "https://localhost:8080/"
        },
        "id": "517gtEo5CvZr",
        "outputId": "b5ce117e-c261-495d-9581-1a6f73e2765f"
      },
      "outputs": [
        {
          "output_type": "stream",
          "name": "stdout",
          "text": [
            " * Serving Flask app '__main__'\n",
            " * Debug mode: off\n"
          ]
        },
        {
          "output_type": "stream",
          "name": "stderr",
          "text": [
            "INFO:werkzeug:\u001b[31m\u001b[1mWARNING: This is a development server. Do not use it in a production deployment. Use a production WSGI server instead.\u001b[0m\n",
            " * Running on http://127.0.0.1:5000\n",
            "INFO:werkzeug:\u001b[33mPress CTRL+C to quit\u001b[0m\n"
          ]
        },
        {
          "output_type": "stream",
          "name": "stdout",
          "text": [
            " * Running on http://88f1-34-82-112-0.ngrok-free.app\n",
            " * Traffic stats available on http://127.0.0.1:4040\n"
          ]
        },
        {
          "output_type": "stream",
          "name": "stderr",
          "text": [
            "INFO:werkzeug:127.0.0.1 - - [05/Jul/2023 10:42:30] \"GET / HTTP/1.1\" 200 -\n",
            "INFO:werkzeug:127.0.0.1 - - [05/Jul/2023 10:42:31] \"\u001b[33mGET /favicon.ico HTTP/1.1\u001b[0m\" 404 -\n",
            "INFO:werkzeug:127.0.0.1 - - [05/Jul/2023 10:42:36] \"GET /predict?exp=3.4 HTTP/1.1\" 200 -\n"
          ]
        }
      ],
      "source": [
        "\n",
        "import numpy as np\n",
        "from flask import Flask, request, jsonify, render_template\n",
        "from flask_ngrok import run_with_ngrok\n",
        "import pickle\n",
        "\n",
        "\n",
        "app = Flask(__name__)\n",
        "model = pickle.load(response)\n",
        "run_with_ngrok(app)\n",
        "\n",
        "@app.route('/')\n",
        "def home():\n",
        "\n",
        "    return render_template(\"index.html\")\n",
        "\n",
        "@app.route('/predict',methods=['GET'])\n",
        "def predict():\n",
        "\n",
        "\n",
        "    '''\n",
        "    For rendering results on HTML GUI\n",
        "    '''\n",
        "    exp = float(request.args.get('exp'))\n",
        "\n",
        "    prediction = model.predict([[exp]])\n",
        "\n",
        "\n",
        "    return render_template('index.html', prediction_text='Regression Model  has predicted salary for given experinace is : {}'.format(prediction))\n",
        "\n",
        "\n",
        "app.run()"
      ]
    },
    {
      "cell_type": "markdown",
      "metadata": {
        "id": "jRViBLLXsF7p"
      },
      "source": [
        "https://github.com/deepakmoud/Internship-Linear-regression"
      ]
    },
    {
      "cell_type": "markdown",
      "source": [
        "http://regression.pythonanywhere.com/\n"
      ],
      "metadata": {
        "id": "5wwwT025L6VU"
      }
    },
    {
      "cell_type": "markdown",
      "source": [
        "https://github.com/deepakmoud/Pythonanywhere-Deployment-steps/blob/main/how-to-use-pythonanywhere.md"
      ],
      "metadata": {
        "id": "dX-Vjrz21EPT"
      }
    },
    {
      "cell_type": "code",
      "execution_count": null,
      "metadata": {
        "id": "9PjqTGTjQ6mn"
      },
      "outputs": [],
      "source": [
        "%mkdir static/css -p"
      ]
    },
    {
      "cell_type": "code",
      "execution_count": null,
      "metadata": {
        "id": "E0dPEMQZROIR"
      },
      "outputs": [],
      "source": [
        "%mkdir static/image -p"
      ]
    },
    {
      "cell_type": "code",
      "execution_count": null,
      "metadata": {
        "colab": {
          "base_uri": "https://localhost:8080/"
        },
        "id": "4_Hg1cfrO46C",
        "outputId": "5f29a89c-30cc-4dfe-da0a-84a6c5b5f29b"
      },
      "outputs": [
        {
          "output_type": "stream",
          "name": "stdout",
          "text": [
            "Overwriting templates/index.html\n"
          ]
        }
      ],
      "source": [
        "%%writefile templates/index.html\n",
        "<!doctype html>\n",
        "<html lang=\"en\">\n",
        "\n",
        "<head>\n",
        "    <!-- Required meta tags -->\n",
        "    <meta charset=\"utf-8\">\n",
        "    <meta name=\"viewport\" content=\"width=device-width, initial-scale=1\">\n",
        "    <script type=\"text/javascript\" src=\"http://ajax.googleapis.com/ajax/libs/jquery/1.6.2/jquery.min.js\"></script>\n",
        "\n",
        "    <!-- Bootstrap CSS -->\n",
        "    <link href=\"{{ url_for('static',filename = 'css/bootstrap.min.css')  }}\" rel=\"stylesheet\">\n",
        "\n",
        "    <title>Flask Demo</title>\n",
        "</head>\n",
        "\n",
        "<body>\n",
        "    <nav style=\"width: 100%;\" class=\"navbar navbar-dark bg-secondary\">\n",
        "         <a class=\"  navbar-brand\" href=\"#\" style=\"margin-left: 0px; margin-top: 0px; margin-right: 0px; margin-botttom: 0px;\">\n",
        "             <img style=\"max-height: auto; width:100%;\" src=\"{{ url_for('static',filename = 'image/PIET logo with tagline.jpg')  }}\"\n",
        "             class=\"img-responsive\" style=\"margin-top:0px;style=width: auto; height: auto; min-width:100%; min-height: auto;\">\n",
        "\n",
        "              <a href=\"/aboutusnew\" style=\"color: red; margin-right: 10px;\">ABOUT US</a>\n",
        "\n",
        "      </div>\n",
        "\n",
        "        </a>\n",
        "\n",
        "    </nav>\n",
        "\n",
        "    <div class=\"container-fluid\">\n",
        "        <div class=\"row\">\n",
        "            <div class=\"col-5 d-none d-sm-block d-sm-none d-md-block d-md-none d-lg-block\">\n",
        "\n",
        "                <img src=\"{{ url_for('static',filename = 'image/DanceBot-3-LG.gif')  }}\" class=\"img-fluid\"\n",
        "                    style=\"width: auto; height: auto; min-width: 400px;min-height: 400px;\">\n",
        "\n",
        "            </div>\n",
        "\n",
        "            <div class=\"col-xs-12 col-sm-12 col-md-12 col-lg-7 \" style=\" padding: 30px;\">\n",
        "                <h1>Flask Project</h1>\n",
        "                <br><br>\n",
        "                <p style=\"font-size:20px;text-align:justify; color:blue\">It is demo of Depoyment of ML Model using Flask.  </p>\n",
        "\n",
        "\n",
        "                <br><br>\n",
        "\n",
        "            </div>\n",
        "        </div>\n",
        "    </div>\n",
        "\n",
        "    <div class=\"container\">\n",
        "        <div class=\"row\">\n",
        "            <div class=\"col-xs-12 col-md-12\">\n",
        "                <div class=\"card mb-3\">\n",
        "\n",
        "                    <div class=\"card\">\n",
        "                        <img style=\"max-height: 300px;\" src=\"{{ url_for('static',filename = 'image/dpforml.jpg')  }}\"\n",
        "                            class=\"card-img-top\" alt=\"...\">\n",
        "                        <div class=\"card-body\">\n",
        "                            <h5 class=\"card-title\"; style=\"text-align:center\">Model Deployment</h5>\n",
        "                            <p class=\"card-text\"; style=\"text-align:justify\">Model Deployment of machine Larning supervised Clasification algorithm. You can enter input and  get prediction. </p>\n",
        "\n",
        "                            <!-- Main Input For Receiving Query to our ML -->\n",
        "<form action=\"{{ url_for('predict')}}\"method=\"get\">\n",
        "<div class=\"form-floating mb-3\">\n",
        "<input type=\"text\" class=\"form-control\" id=\"user\" name=\"user\"  placeholder=\"Deepak Moud\" required=\"required\">\n",
        "<label for=\"floatingInput\">Enter Your name</label>\n",
        "\n",
        "\n",
        "</div>\n",
        "<br>\n",
        "\n",
        "<br>\n",
        "<button type=\"submit\" class=\"btn btn-primary btn-block btn-large\">Click for Classification</button>\n",
        "</form>\n",
        "<br>\n",
        "<br>\n",
        "{{ prediction_text }}\n",
        "\n",
        "</div>\n",
        "\n",
        "                        </div>\n",
        "\n",
        "\n",
        "                    </div>\n",
        "                </div>\n",
        "            </div>\n",
        "\n",
        "    <br>\n",
        "\n",
        "    <div class=\"col-md-12\">\n",
        "              <center><h3 class=\"section-title\" style=\"text-align: center;\">Sponsored by</h3></center>\n",
        "            </div>\n",
        "\n",
        "          <br>\n",
        "          <br>\n",
        "\n",
        "      <div class=\"container\">\n",
        "        <div class=\"row\">\n",
        "            <div class=\"col-xs-12 col-md-4\">\n",
        "                <div class=\"card mb-3\">\n",
        "\n",
        "                    <div class=\"card\">\n",
        "                        <img style=\"max-height: 200px;\" src=\"{{ url_for('static',filename = 'image/AICTEIdeaLabFooterLogo.png')  }}\"\n",
        "                            class=\"card-img-top\" alt=\"...\">\n",
        "                        <div class=\"card-body\">\n",
        "                            <h5 class=\"card-title\" style=\"text-align:center\">IDEA LAB</h5>\n",
        "\n",
        "                        </div>\n",
        "\n",
        "\n",
        "                    </div>\n",
        "                </div>\n",
        "            </div>\n",
        "\n",
        "            <div class=\"col-xs-12 col-md-4\">\n",
        "                <div class=\"card mb-3\">\n",
        "\n",
        "                    <div class=\"card\">\n",
        "                        <img style=\"max-height: 200px;\" src=\"{{ url_for('static',filename = 'image/nbanew.png')  }}\"\n",
        "                            class=\"card-img-top\" alt=\"...\">\n",
        "                        <div class=\"card-body\">\n",
        "                            <h5 class=\"card-title\" style=\"text-align:center\">NBA</h5>\n",
        "\n",
        "                        </div>\n",
        "\n",
        "\n",
        "                    </div>\n",
        "                </div>\n",
        "            </div>\n",
        "\n",
        "            <div class=\"col-xs-10 col-md-3\">\n",
        "                <div class=\"card mb-3\">\n",
        "\n",
        "                    <div class=\"card\">\n",
        "                        <img style=\"max-height: 200px;\"\n",
        "                            src=\"{{ url_for('static',filename = 'image/aicte-logo.png')  }}\"\n",
        "                            class=\"card-img-top\" alt=\"...\">\n",
        "                        <div class=\"card-body\">\n",
        "                            <h5 class=\"card-title\"; style=\"text-align:center\">AICTE MODROB DEEP LEARNING LAB</h5>\n",
        "\n",
        "                        </div>\n",
        "\n",
        "                    </div>\n",
        "\n",
        "                </div>\n",
        "            </div>\n",
        "\n",
        "\n",
        "\n",
        "    <br><br><br><br><br>\n",
        "    <div class=\"fixed-bottom \">\n",
        "        <div class=\"bg-secondary \" style=\"min-height: 40px;\">\n",
        "\n",
        "            <marquee style=\"color:#fff; margin-top: 7px;\">\n",
        "                <h9>Developed by Department of Computer Engineering, PIET</h9>\n",
        "            </marquee>\n",
        "        </div>\n",
        "    </div>\n",
        "    <!-- change later-->\n",
        "    <script src=\"{{ url_for('static',filename = 'js/bootstrap.bundle.min.js')  }}\"></script>\n",
        "\n",
        "</body>\n",
        "\n",
        "</html>"
      ]
    },
    {
      "cell_type": "code",
      "execution_count": null,
      "metadata": {
        "colab": {
          "base_uri": "https://localhost:8080/"
        },
        "id": "nOZALbiuVFZX",
        "outputId": "bf0c0776-670a-47d0-8c40-66812b60c154"
      },
      "outputs": [
        {
          "output_type": "stream",
          "name": "stdout",
          "text": [
            "Writing templates/aboutusnew.html\n"
          ]
        }
      ],
      "source": [
        "\n",
        "%%writefile templates/aboutusnew.html\n",
        "<!doctype html>\n",
        "<html lang=\"en\">\n",
        "\n",
        "<head>\n",
        "    <!-- Required meta tags -->\n",
        "    <meta charset=\"utf-8\">\n",
        "    <meta name=\"viewport\" content=\"width=device-width, initial-scale=1\">\n",
        "    <script type=\"text/javascript\" src=\"http://ajax.googleapis.com/ajax/libs/jquery/1.6.2/jquery.min.js\"></script>\n",
        "<script src=\"https://cdn.jsdelivr.net/npm/bootstrap@5.0.2/dist/js/bootstrap.bundle.min.js\" integrity=\"sha384-MrcW6ZMFYlzcLA8Nl+NtUVF0sA7MsXsP1UyJoMp4YLEuNSfAP+JcXn/tWtIaxVXM\" crossorigin=\"anonymous\"></script>\n",
        "    <!-- Bootstrap CSS -->\n",
        "    <link href=\"{{ url_for('static',filename = 'css/bootstrap.min.css')  }}\" rel=\"stylesheet\">\n",
        "\n",
        "    <title>Machine Learning Lab</title>\n",
        "</head>\n",
        "\n",
        "<body>\n",
        "    <nav style=\"width: 100%;\" class=\"navbar navbar-dark bg-secondary\">\n",
        "        <a class=\"  navbar-brand\" href=\"#\" style=\"margin-left: 0px; margin-top: 0px; margin-right: 0px; margin-botttom: 0px;\">\n",
        "             <img style=\"max-height: auto; width:100%;\" src=\"{{ url_for('static',filename = 'image/PIET logo with tagline.jpg')  }}\"\n",
        "             class=\"img-responsive\" style=\"margin-top:0px;style=width: auto; height: auto; min-width:100%; min-height: auto;\">\n",
        "\n",
        "\n",
        "\n",
        "\n",
        "              <a href=\"/\" style=\"color: red; margin-right: 10px;\">HOME</a>\n",
        "\n",
        "      </div>\n",
        "\n",
        "        </a>\n",
        "\n",
        "    </nav>\n",
        "\n",
        "    <div class=\"container-fluid\">\n",
        "        <div class=\"row\">\n",
        "            <div class=\"col-5 d-none d-sm-block d-sm-none d-md-block d-md-none d-lg-block\">\n",
        "\n",
        "                <img src=\"{{ url_for('static',filename = 'image/Department1.png')  }}\" class=\"img-fluid\"\n",
        "                    style=\"width: auto; height: auto; min-width: 500px;min-height: 600px;\">\n",
        "\n",
        "            </div>\n",
        "\n",
        "            <div class=\"col-xs-12 col-sm-12 col-md-12 col-lg-7 \" style=\" padding: 30px;\">\n",
        "                <h1>About Us</h1>\n",
        "                <br>\n",
        "                <p style=\"font-size:20px;text-align:justify; color:blue\">The Department of Computer Engineering was incepted in the year 2007 with the vision, “To create an environment in which new ideas, research and technology development and the technocrats and innovators of tomorrow become competent to face the global challenges”, In these academic years Department of Computer Engineering (CS), PIET has achieved lot of success and earn many achievements. I am glad to inform that Department has been accredited by National Board of Accreditation (NBA) in year 2017-18 and it is now in elite list of departments in India. It has taken initiative to start own portal for the home assignment submission and awarding marks. There is many other software are also used which are developed by the faculty members and students of Department such as cspiet.poornima.org, KYS, cstech.poornima.org. Because of all this efforts and team work Department has been recognized as one of the most innovative department in Poornima foundation. </p>\n",
        "\n",
        "\n",
        "                <br><br>\n",
        "\n",
        "            </div>\n",
        "        </div>\n",
        "    </div>\n",
        "<h1 style=\"text-align:center\">Contribution</h1>\n",
        "    <div class=\"container\">\n",
        "        <div class=\"row\">\n",
        "            <div class=\"col-xs-12 col-md-4\">\n",
        "\n",
        "            </div>\n",
        "\n",
        "         <div class=\"col-xs-12 col-md-4\">\n",
        "                <div class=\"card mb-4\">\n",
        "\n",
        "                    <div class=\"card\">\n",
        "                        <img style=\"max-height: 200px;\" src=\"{{ url_for('static',filename = 'image/Deepak Moud.jpg')  }}\"\n",
        "                            class=\"card-img-top\" alt=\"...\">\n",
        "                        <div class=\"card-body\">\n",
        "                            <h5 class=\"card-title\"; style=\"text-align:center\">Developer</h5>\n",
        "                            <p class=\"card-text\"; style=\"text-align:justify\">Deepak Moud, Assistant Professor, Department of Computer Engineering, PIET</p>\n",
        "\n",
        "\n",
        "                        </div>\n",
        "\n",
        "\n",
        "                    </div>\n",
        "                </div>\n",
        "            </div>\n",
        "\n",
        "    <br><br><br><br><br><br>\n",
        "\n",
        "\n",
        "     <P style=\"font-size:20px;text-align:justify\">Mr. Deepak Moud is Assistant Professor in Department of Computer Engineering, Poornima Institute of Engineering & technology, Jaipur. He has more than 16 years of teaching experience. He is BE, MTech in Computer Science & Engineering. His research interests are in the area of Image Processing, Machine Learning, Deep Learning and data Mining. He has published more than 20 research papers in reputed journal in this area. He has received Best paper award two times. He guided many Deep Learning, Machine learning, Python flask projects. He has conducted training on various technologies. He has been resource person for more than 5 ATAL FDP and AICTE and TEQIP sponsored Workshops. He is Microsoft certified Azure AI Fundamental and Data Fundamental professional.</P>\n",
        "\n",
        "   <br>\n",
        "   <br>\n",
        "\n",
        "                <h1>Disclaimer</h1>\n",
        "                <br>\n",
        "                <p style=\"font-size:20px;text-align:justify;color:red\">This website contains images and content  obtained  by  routine Google Images/document  searches. Some of these  images/data may perhaps be under copyright. They are  included here for educational and noncommercial  purposes and are considered to be covered by  the doctrine of Fair Use. In any event they are  easily available from Google Images/data.It's not feasible to give full scholarly credit to the  creators of these images/data. We hope they can be  satisfied with the positive role. </p>\n",
        "\n",
        "\n",
        "\n",
        "     <br>\n",
        "     <br>\n",
        "     <br><br><br><br><br><br>\n",
        "\n",
        "    <div class=\"fixed-bottom \">\n",
        "        <div class=\"bg-secondary \" style=\"min-height: 40px;\">\n",
        "\n",
        "            <marquee style=\"color:#fff; margin-top: 7px;\">\n",
        "                <h9>Developed by Department of Computer Engineering, PIET</h9>\n",
        "            </marquee>\n",
        "        </div>\n",
        "    </div>\n",
        "    <!-- change later-->\n",
        "    <script src=\"{{ url_for('static',filename = 'js/bootstrap.bundle.min.js')  }}\"></script>\n",
        "\n",
        "</body>\n",
        "\n",
        "</html>"
      ]
    },
    {
      "cell_type": "code",
      "execution_count": null,
      "metadata": {
        "colab": {
          "base_uri": "https://localhost:8080/"
        },
        "id": "gn2rYgzUTO1q",
        "outputId": "f290aef0-f334-4bb9-ed1f-d8f6cdb202d6"
      },
      "outputs": [
        {
          "output_type": "stream",
          "name": "stdout",
          "text": [
            " * Serving Flask app '__main__'\n",
            " * Debug mode: off\n"
          ]
        },
        {
          "output_type": "stream",
          "name": "stderr",
          "text": [
            "INFO:werkzeug:\u001b[31m\u001b[1mWARNING: This is a development server. Do not use it in a production deployment. Use a production WSGI server instead.\u001b[0m\n",
            " * Running on http://127.0.0.1:5000\n",
            "INFO:werkzeug:\u001b[33mPress CTRL+C to quit\u001b[0m\n"
          ]
        },
        {
          "output_type": "stream",
          "name": "stdout",
          "text": [
            " * Running on http://4382-35-230-39-106.ngrok-free.app\n",
            " * Traffic stats available on http://127.0.0.1:4040\n"
          ]
        },
        {
          "output_type": "stream",
          "name": "stderr",
          "text": [
            "INFO:werkzeug:127.0.0.1 - - [05/Jul/2023 04:29:22] \"GET / HTTP/1.1\" 200 -\n",
            "INFO:werkzeug:127.0.0.1 - - [05/Jul/2023 04:29:23] \"\u001b[33mGET /static/image/PIET%20logo%20with%20tagline.jpg HTTP/1.1\u001b[0m\" 404 -\n",
            "INFO:werkzeug:127.0.0.1 - - [05/Jul/2023 04:29:23] \"\u001b[33mGET /static/image/aicte-logo.png HTTP/1.1\u001b[0m\" 404 -\n",
            "INFO:werkzeug:127.0.0.1 - - [05/Jul/2023 04:29:23] \"\u001b[33mGET /static/image/DanceBot-3-LG.gif HTTP/1.1\u001b[0m\" 404 -\n",
            "INFO:werkzeug:127.0.0.1 - - [05/Jul/2023 04:29:23] \"\u001b[33mGET /static/image/AICTEIdeaLabFooterLogo.png HTTP/1.1\u001b[0m\" 404 -\n",
            "INFO:werkzeug:127.0.0.1 - - [05/Jul/2023 04:29:23] \"\u001b[33mGET /static/css/bootstrap.min.css HTTP/1.1\u001b[0m\" 404 -\n",
            "INFO:werkzeug:127.0.0.1 - - [05/Jul/2023 04:29:23] \"\u001b[33mGET /static/image/nbanew.png HTTP/1.1\u001b[0m\" 404 -\n",
            "INFO:werkzeug:127.0.0.1 - - [05/Jul/2023 04:29:23] \"\u001b[33mGET /static/image/dpforml.jpg HTTP/1.1\u001b[0m\" 404 -\n",
            "INFO:werkzeug:127.0.0.1 - - [05/Jul/2023 04:29:23] \"\u001b[33mGET /static/js/bootstrap.bundle.min.js HTTP/1.1\u001b[0m\" 404 -\n",
            "INFO:werkzeug:127.0.0.1 - - [05/Jul/2023 04:29:24] \"\u001b[33mGET /favicon.ico HTTP/1.1\u001b[0m\" 404 -\n",
            "INFO:werkzeug:127.0.0.1 - - [05/Jul/2023 04:29:30] \"GET /predict?user=Deepak+Moud HTTP/1.1\" 200 -\n",
            "INFO:werkzeug:127.0.0.1 - - [05/Jul/2023 04:29:30] \"\u001b[33mGET /static/image/DanceBot-3-LG.gif HTTP/1.1\u001b[0m\" 404 -\n",
            "INFO:werkzeug:127.0.0.1 - - [05/Jul/2023 04:29:30] \"\u001b[33mGET /static/image/PIET%20logo%20with%20tagline.jpg HTTP/1.1\u001b[0m\" 404 -\n",
            "INFO:werkzeug:127.0.0.1 - - [05/Jul/2023 04:29:30] \"\u001b[33mGET /static/image/AICTEIdeaLabFooterLogo.png HTTP/1.1\u001b[0m\" 404 -\n",
            "INFO:werkzeug:127.0.0.1 - - [05/Jul/2023 04:29:30] \"\u001b[33mGET /static/css/bootstrap.min.css HTTP/1.1\u001b[0m\" 404 -\n",
            "INFO:werkzeug:127.0.0.1 - - [05/Jul/2023 04:29:30] \"\u001b[33mGET /static/image/nbanew.png HTTP/1.1\u001b[0m\" 404 -\n",
            "INFO:werkzeug:127.0.0.1 - - [05/Jul/2023 04:29:30] \"\u001b[33mGET /static/js/bootstrap.bundle.min.js HTTP/1.1\u001b[0m\" 404 -\n",
            "INFO:werkzeug:127.0.0.1 - - [05/Jul/2023 04:29:30] \"\u001b[33mGET /static/image/aicte-logo.png HTTP/1.1\u001b[0m\" 404 -\n",
            "INFO:werkzeug:127.0.0.1 - - [05/Jul/2023 04:29:30] \"\u001b[33mGET /static/image/dpforml.jpg HTTP/1.1\u001b[0m\" 404 -\n"
          ]
        }
      ],
      "source": [
        "import numpy as np\n",
        "from flask import Flask, request, jsonify, render_template\n",
        "from flask_ngrok import run_with_ngrok\n",
        "import pickle\n",
        "\n",
        "\n",
        "app = Flask(__name__)\n",
        "\n",
        "run_with_ngrok(app)\n",
        "\n",
        "@app.route('/')\n",
        "def home():\n",
        "\n",
        "    return render_template(\"index.html\")\n",
        "#------------------------------About us-------------------------------------------\n",
        "@app.route('/aboutusnew')\n",
        "def aboutusnew():\n",
        "    return render_template('aboutusnew.html')\n",
        "\n",
        "@app.route('/predict',methods=['GET'])\n",
        "def predict():\n",
        "\n",
        "\n",
        "    '''\n",
        "    For rendering results on HTML GUI\n",
        "    '''\n",
        "    name = request.args.get('user')\n",
        "    text= name\n",
        "\n",
        "    return render_template('index.html', prediction_text='Entered User Name is '+ str(text))\n",
        "\n",
        "\n",
        "app.run()"
      ]
    },
    {
      "cell_type": "markdown",
      "source": [
        "https://flask.palletsprojects.com/en/2.3.x/"
      ],
      "metadata": {
        "id": "puhbc4mpUXiK"
      }
    },
    {
      "cell_type": "code",
      "source": [
        "from google.colab import drive\n",
        "drive.mount('/content/drive')"
      ],
      "metadata": {
        "colab": {
          "base_uri": "https://localhost:8080/"
        },
        "id": "bUQCUq2Dp3WQ",
        "outputId": "8fdb162e-d0e6-450c-ca34-4d9b812bc23d"
      },
      "execution_count": null,
      "outputs": [
        {
          "output_type": "stream",
          "name": "stdout",
          "text": [
            "Mounted at /content/drive\n"
          ]
        }
      ]
    },
    {
      "cell_type": "code",
      "source": [
        "!pip install streamlit==1.1.0"
      ],
      "metadata": {
        "colab": {
          "base_uri": "https://localhost:8080/"
        },
        "id": "gKRJaEhgp8q3",
        "outputId": "7acbd6eb-e331-4317-b48a-ec6bcdd4ba62"
      },
      "execution_count": null,
      "outputs": [
        {
          "output_type": "stream",
          "name": "stdout",
          "text": [
            "Collecting streamlit==1.1.0\n",
            "  Downloading streamlit-1.1.0-py2.py3-none-any.whl (8.3 MB)\n",
            "\u001b[2K     \u001b[90m━━━━━━━━━━━━━━━━━━━━━━━━━━━━━━━━━━━━━━━━\u001b[0m \u001b[32m8.3/8.3 MB\u001b[0m \u001b[31m49.6 MB/s\u001b[0m eta \u001b[36m0:00:00\u001b[0m\n",
            "\u001b[?25hRequirement already satisfied: altair>=3.2.0 in /usr/local/lib/python3.10/dist-packages (from streamlit==1.1.0) (4.2.2)\n",
            "Collecting astor (from streamlit==1.1.0)\n",
            "  Downloading astor-0.8.1-py2.py3-none-any.whl (27 kB)\n",
            "Requirement already satisfied: attrs in /usr/local/lib/python3.10/dist-packages (from streamlit==1.1.0) (23.1.0)\n",
            "Collecting base58 (from streamlit==1.1.0)\n",
            "  Downloading base58-2.1.1-py3-none-any.whl (5.6 kB)\n",
            "Collecting blinker (from streamlit==1.1.0)\n",
            "  Downloading blinker-1.6.2-py3-none-any.whl (13 kB)\n",
            "Requirement already satisfied: cachetools>=4.0 in /usr/local/lib/python3.10/dist-packages (from streamlit==1.1.0) (5.3.1)\n",
            "Collecting click<8.0,>=7.0 (from streamlit==1.1.0)\n",
            "  Downloading click-7.1.2-py2.py3-none-any.whl (82 kB)\n",
            "\u001b[2K     \u001b[90m━━━━━━━━━━━━━━━━━━━━━━━━━━━━━━━━━━━━━━━━\u001b[0m \u001b[32m82.8/82.8 kB\u001b[0m \u001b[31m11.1 MB/s\u001b[0m eta \u001b[36m0:00:00\u001b[0m\n",
            "\u001b[?25hRequirement already satisfied: numpy in /usr/local/lib/python3.10/dist-packages (from streamlit==1.1.0) (1.22.4)\n",
            "Requirement already satisfied: packaging in /usr/local/lib/python3.10/dist-packages (from streamlit==1.1.0) (23.1)\n",
            "Requirement already satisfied: pandas>=0.21.0 in /usr/local/lib/python3.10/dist-packages (from streamlit==1.1.0) (1.5.3)\n",
            "Requirement already satisfied: pillow>=6.2.0 in /usr/local/lib/python3.10/dist-packages (from streamlit==1.1.0) (8.4.0)\n",
            "Requirement already satisfied: protobuf!=3.11,>=3.6.0 in /usr/local/lib/python3.10/dist-packages (from streamlit==1.1.0) (3.20.3)\n",
            "Requirement already satisfied: pyarrow in /usr/local/lib/python3.10/dist-packages (from streamlit==1.1.0) (9.0.0)\n",
            "Collecting pydeck>=0.1.dev5 (from streamlit==1.1.0)\n",
            "  Downloading pydeck-0.8.1b0-py2.py3-none-any.whl (4.8 MB)\n",
            "\u001b[2K     \u001b[90m━━━━━━━━━━━━━━━━━━━━━━━━━━━━━━━━━━━━━━━━\u001b[0m \u001b[32m4.8/4.8 MB\u001b[0m \u001b[31m86.7 MB/s\u001b[0m eta \u001b[36m0:00:00\u001b[0m\n",
            "\u001b[?25hRequirement already satisfied: python-dateutil in /usr/local/lib/python3.10/dist-packages (from streamlit==1.1.0) (2.8.2)\n",
            "Requirement already satisfied: requests in /usr/local/lib/python3.10/dist-packages (from streamlit==1.1.0) (2.27.1)\n",
            "Requirement already satisfied: toml in /usr/local/lib/python3.10/dist-packages (from streamlit==1.1.0) (0.10.2)\n",
            "Requirement already satisfied: tornado>=5.0 in /usr/local/lib/python3.10/dist-packages (from streamlit==1.1.0) (6.3.1)\n",
            "Requirement already satisfied: tzlocal in /usr/local/lib/python3.10/dist-packages (from streamlit==1.1.0) (5.0.1)\n",
            "Collecting validators (from streamlit==1.1.0)\n",
            "  Downloading validators-0.20.0.tar.gz (30 kB)\n",
            "  Preparing metadata (setup.py) ... \u001b[?25l\u001b[?25hdone\n",
            "Collecting gitpython!=3.1.19 (from streamlit==1.1.0)\n",
            "  Downloading GitPython-3.1.31-py3-none-any.whl (184 kB)\n",
            "\u001b[2K     \u001b[90m━━━━━━━━━━━━━━━━━━━━━━━━━━━━━━━━━━━━━━\u001b[0m \u001b[32m184.3/184.3 kB\u001b[0m \u001b[31m20.1 MB/s\u001b[0m eta \u001b[36m0:00:00\u001b[0m\n",
            "\u001b[?25hCollecting watchdog (from streamlit==1.1.0)\n",
            "  Downloading watchdog-3.0.0-py3-none-manylinux2014_x86_64.whl (82 kB)\n",
            "\u001b[2K     \u001b[90m━━━━━━━━━━━━━━━━━━━━━━━━━━━━━━━━━━━━━━━━\u001b[0m \u001b[32m82.1/82.1 kB\u001b[0m \u001b[31m10.1 MB/s\u001b[0m eta \u001b[36m0:00:00\u001b[0m\n",
            "\u001b[?25hRequirement already satisfied: entrypoints in /usr/local/lib/python3.10/dist-packages (from altair>=3.2.0->streamlit==1.1.0) (0.4)\n",
            "Requirement already satisfied: jinja2 in /usr/local/lib/python3.10/dist-packages (from altair>=3.2.0->streamlit==1.1.0) (3.1.2)\n",
            "Requirement already satisfied: jsonschema>=3.0 in /usr/local/lib/python3.10/dist-packages (from altair>=3.2.0->streamlit==1.1.0) (4.3.3)\n",
            "Requirement already satisfied: toolz in /usr/local/lib/python3.10/dist-packages (from altair>=3.2.0->streamlit==1.1.0) (0.12.0)\n",
            "Collecting gitdb<5,>=4.0.1 (from gitpython!=3.1.19->streamlit==1.1.0)\n",
            "  Downloading gitdb-4.0.10-py3-none-any.whl (62 kB)\n",
            "\u001b[2K     \u001b[90m━━━━━━━━━━━━━━━━━━━━━━━━━━━━━━━━━━━━━━━━\u001b[0m \u001b[32m62.7/62.7 kB\u001b[0m \u001b[31m7.5 MB/s\u001b[0m eta \u001b[36m0:00:00\u001b[0m\n",
            "\u001b[?25hRequirement already satisfied: pytz>=2020.1 in /usr/local/lib/python3.10/dist-packages (from pandas>=0.21.0->streamlit==1.1.0) (2022.7.1)\n",
            "Requirement already satisfied: six>=1.5 in /usr/local/lib/python3.10/dist-packages (from python-dateutil->streamlit==1.1.0) (1.16.0)\n",
            "Requirement already satisfied: urllib3<1.27,>=1.21.1 in /usr/local/lib/python3.10/dist-packages (from requests->streamlit==1.1.0) (1.26.16)\n",
            "Requirement already satisfied: certifi>=2017.4.17 in /usr/local/lib/python3.10/dist-packages (from requests->streamlit==1.1.0) (2023.5.7)\n",
            "Requirement already satisfied: charset-normalizer~=2.0.0 in /usr/local/lib/python3.10/dist-packages (from requests->streamlit==1.1.0) (2.0.12)\n",
            "Requirement already satisfied: idna<4,>=2.5 in /usr/local/lib/python3.10/dist-packages (from requests->streamlit==1.1.0) (3.4)\n",
            "Requirement already satisfied: decorator>=3.4.0 in /usr/local/lib/python3.10/dist-packages (from validators->streamlit==1.1.0) (4.4.2)\n",
            "Collecting smmap<6,>=3.0.1 (from gitdb<5,>=4.0.1->gitpython!=3.1.19->streamlit==1.1.0)\n",
            "  Downloading smmap-5.0.0-py3-none-any.whl (24 kB)\n",
            "Requirement already satisfied: MarkupSafe>=2.0 in /usr/local/lib/python3.10/dist-packages (from jinja2->altair>=3.2.0->streamlit==1.1.0) (2.1.3)\n",
            "Requirement already satisfied: pyrsistent!=0.17.0,!=0.17.1,!=0.17.2,>=0.14.0 in /usr/local/lib/python3.10/dist-packages (from jsonschema>=3.0->altair>=3.2.0->streamlit==1.1.0) (0.19.3)\n",
            "Building wheels for collected packages: validators\n",
            "  Building wheel for validators (setup.py) ... \u001b[?25l\u001b[?25hdone\n",
            "  Created wheel for validators: filename=validators-0.20.0-py3-none-any.whl size=19579 sha256=34142fc80ee365d0d27401a67a4b338ac4ebd25a1d79afe35540f59cefd2cd2f\n",
            "  Stored in directory: /root/.cache/pip/wheels/f2/ed/dd/d3a556ad245ef9dc570c6bcd2f22886d17b0b408dd3bbb9ac3\n",
            "Successfully built validators\n",
            "Installing collected packages: watchdog, validators, smmap, click, blinker, base58, astor, pydeck, gitdb, gitpython, streamlit\n",
            "  Attempting uninstall: click\n",
            "    Found existing installation: click 8.1.3\n",
            "    Uninstalling click-8.1.3:\n",
            "      Successfully uninstalled click-8.1.3\n",
            "\u001b[31mERROR: pip's dependency resolver does not currently take into account all the packages that are installed. This behaviour is the source of the following dependency conflicts.\n",
            "fiona 1.9.4.post1 requires click~=8.0, but you have click 7.1.2 which is incompatible.\n",
            "flask 2.2.5 requires click>=8.0, but you have click 7.1.2 which is incompatible.\n",
            "pip-tools 6.13.0 requires click>=8, but you have click 7.1.2 which is incompatible.\u001b[0m\u001b[31m\n",
            "\u001b[0mSuccessfully installed astor-0.8.1 base58-2.1.1 blinker-1.6.2 click-7.1.2 gitdb-4.0.10 gitpython-3.1.31 pydeck-0.8.1b0 smmap-5.0.0 streamlit-1.1.0 validators-0.20.0 watchdog-3.0.0\n"
          ]
        }
      ]
    },
    {
      "cell_type": "code",
      "source": [
        "!pip install pyngrok==5.2.2"
      ],
      "metadata": {
        "colab": {
          "base_uri": "https://localhost:8080/"
        },
        "id": "zZJ5FdeFqBa1",
        "outputId": "9edebcb0-bc11-4baa-d9e4-eb7b4d40ccb1"
      },
      "execution_count": null,
      "outputs": [
        {
          "output_type": "stream",
          "name": "stdout",
          "text": [
            "Collecting pyngrok==5.2.2\n",
            "  Downloading pyngrok-5.2.2.tar.gz (680 kB)\n",
            "\u001b[?25l     \u001b[90m━━━━━━━━━━━━━━━━━━━━━━━━━━━━━━━━━━━━━━━━\u001b[0m \u001b[32m0.0/680.1 kB\u001b[0m \u001b[31m?\u001b[0m eta \u001b[36m-:--:--\u001b[0m\r\u001b[2K     \u001b[91m━━━━━━━━━━━━\u001b[0m\u001b[90m╺\u001b[0m\u001b[90m━━━━━━━━━━━━━━━━━━━━━━━━━━\u001b[0m \u001b[32m215.0/680.1 kB\u001b[0m \u001b[31m6.7 MB/s\u001b[0m eta \u001b[36m0:00:01\u001b[0m\r\u001b[2K     \u001b[90m━━━━━━━━━━━━━━━━━━━━━━━━━━━━━━━━━━━━━━\u001b[0m \u001b[32m680.1/680.1 kB\u001b[0m \u001b[31m10.6 MB/s\u001b[0m eta \u001b[36m0:00:00\u001b[0m\n",
            "\u001b[?25h  Preparing metadata (setup.py) ... \u001b[?25l\u001b[?25hdone\n",
            "Requirement already satisfied: PyYAML in /usr/local/lib/python3.10/dist-packages (from pyngrok==5.2.2) (6.0)\n",
            "Building wheels for collected packages: pyngrok\n",
            "  Building wheel for pyngrok (setup.py) ... \u001b[?25l\u001b[?25hdone\n",
            "  Created wheel for pyngrok: filename=pyngrok-5.2.2-py3-none-any.whl size=19803 sha256=7ad46dfec77d1ae2e34e37f3d97c48e9316e7d9f842ab643831dcf7d95d52caf\n",
            "  Stored in directory: /root/.cache/pip/wheels/59/43/d0/6512bcc4a32ea8c1b195f8ad0eb80bd8ec161c55b25eb47cea\n",
            "Successfully built pyngrok\n",
            "Installing collected packages: pyngrok\n",
            "Successfully installed pyngrok-5.2.2\n"
          ]
        }
      ]
    },
    {
      "cell_type": "code",
      "source": [
        "!ngrok authtoken 2Ltrxzr7all8wsh0grVdO7aQTIY_4pGibLxJNd6gHN1TCCP24"
      ],
      "metadata": {
        "colab": {
          "base_uri": "https://localhost:8080/"
        },
        "id": "ujlJm4CbqOi8",
        "outputId": "6e9dee32-dbef-4bfb-a66d-7abf1dffb08c"
      },
      "execution_count": null,
      "outputs": [
        {
          "output_type": "stream",
          "name": "stdout",
          "text": [
            "Authtoken saved to configuration file: /root/.ngrok2/ngrok.yml\n"
          ]
        }
      ]
    },
    {
      "cell_type": "code",
      "execution_count": null,
      "metadata": {
        "colab": {
          "base_uri": "https://localhost:8080/"
        },
        "id": "HL82rxYRYZ2B",
        "outputId": "b01a7e94-011f-434e-97a6-8ebe35d3e4f8"
      },
      "outputs": [
        {
          "output_type": "stream",
          "name": "stdout",
          "text": [
            "Writing app.py\n"
          ]
        }
      ],
      "source": [
        "%%writefile app.py\n",
        "import streamlit as st\n",
        "st.title(\"hi!\")"
      ]
    },
    {
      "cell_type": "code",
      "source": [
        "from pyngrok import ngrok\n",
        "url=ngrok.connect(port='8050')\n",
        "url"
      ],
      "metadata": {
        "colab": {
          "base_uri": "https://localhost:8080/"
        },
        "id": "hb7Q-1L_qeqc",
        "outputId": "bbe6a6ee-49d4-4fb6-e8fc-125e6a0781ad"
      },
      "execution_count": null,
      "outputs": [
        {
          "output_type": "execute_result",
          "data": {
            "text/plain": [
              "<NgrokTunnel: \"http://0b52-34-138-204-157.ngrok-free.app\" -> \"http://localhost:80\">"
            ]
          },
          "metadata": {},
          "execution_count": 6
        }
      ]
    },
    {
      "cell_type": "code",
      "source": [
        " !streamlit run --server.port 80 app.py"
      ],
      "metadata": {
        "colab": {
          "base_uri": "https://localhost:8080/"
        },
        "id": "kUbofo2Tq3Y2",
        "outputId": "8fc7630d-b229-4346-f226-ebaa122ef445"
      },
      "execution_count": null,
      "outputs": [
        {
          "output_type": "stream",
          "name": "stdout",
          "text": [
            "2023-07-05 11:12:33.171 INFO    numexpr.utils: NumExpr defaulting to 2 threads.\n",
            "\u001b[0m\n",
            "\u001b[34m\u001b[1m  You can now view your Streamlit app in your browser.\u001b[0m\n",
            "\u001b[0m\n",
            "\u001b[34m  Network URL: \u001b[0m\u001b[1mhttp://172.28.0.12:80\u001b[0m\n",
            "\u001b[34m  External URL: \u001b[0m\u001b[1mhttp://34.138.204.157:80\u001b[0m\n",
            "\u001b[0m\n",
            "\u001b[34m  Stopping...\u001b[0m\n",
            "^C\n"
          ]
        }
      ]
    },
    {
      "cell_type": "code",
      "execution_count": null,
      "metadata": {
        "colab": {
          "base_uri": "https://localhost:8080/"
        },
        "id": "yySzsgd8Z7kK",
        "outputId": "b1a4ec17-7938-4a7c-aee5-607eba7858da"
      },
      "outputs": [
        {
          "output_type": "stream",
          "name": "stdout",
          "text": [
            "Requirement already satisfied: streamlit==1.1.0 in /usr/local/lib/python3.10/dist-packages (1.1.0)\n",
            "Requirement already satisfied: altair>=3.2.0 in /usr/local/lib/python3.10/dist-packages (from streamlit==1.1.0) (4.2.2)\n",
            "Requirement already satisfied: astor in /usr/local/lib/python3.10/dist-packages (from streamlit==1.1.0) (0.8.1)\n",
            "Requirement already satisfied: attrs in /usr/local/lib/python3.10/dist-packages (from streamlit==1.1.0) (23.1.0)\n",
            "Requirement already satisfied: base58 in /usr/local/lib/python3.10/dist-packages (from streamlit==1.1.0) (2.1.1)\n",
            "Requirement already satisfied: blinker in /usr/local/lib/python3.10/dist-packages (from streamlit==1.1.0) (1.6.2)\n",
            "Requirement already satisfied: cachetools>=4.0 in /usr/local/lib/python3.10/dist-packages (from streamlit==1.1.0) (5.3.1)\n",
            "Requirement already satisfied: click<8.0,>=7.0 in /usr/local/lib/python3.10/dist-packages (from streamlit==1.1.0) (7.1.2)\n",
            "Requirement already satisfied: numpy in /usr/local/lib/python3.10/dist-packages (from streamlit==1.1.0) (1.22.4)\n",
            "Requirement already satisfied: packaging in /usr/local/lib/python3.10/dist-packages (from streamlit==1.1.0) (23.1)\n",
            "Requirement already satisfied: pandas>=0.21.0 in /usr/local/lib/python3.10/dist-packages (from streamlit==1.1.0) (1.5.3)\n",
            "Requirement already satisfied: pillow>=6.2.0 in /usr/local/lib/python3.10/dist-packages (from streamlit==1.1.0) (8.4.0)\n",
            "Requirement already satisfied: protobuf!=3.11,>=3.6.0 in /usr/local/lib/python3.10/dist-packages (from streamlit==1.1.0) (3.20.3)\n",
            "Requirement already satisfied: pyarrow in /usr/local/lib/python3.10/dist-packages (from streamlit==1.1.0) (9.0.0)\n",
            "Requirement already satisfied: pydeck>=0.1.dev5 in /usr/local/lib/python3.10/dist-packages (from streamlit==1.1.0) (0.8.1b0)\n",
            "Requirement already satisfied: python-dateutil in /usr/local/lib/python3.10/dist-packages (from streamlit==1.1.0) (2.8.2)\n",
            "Requirement already satisfied: requests in /usr/local/lib/python3.10/dist-packages (from streamlit==1.1.0) (2.27.1)\n",
            "Requirement already satisfied: toml in /usr/local/lib/python3.10/dist-packages (from streamlit==1.1.0) (0.10.2)\n",
            "Requirement already satisfied: tornado>=5.0 in /usr/local/lib/python3.10/dist-packages (from streamlit==1.1.0) (6.3.1)\n",
            "Requirement already satisfied: tzlocal in /usr/local/lib/python3.10/dist-packages (from streamlit==1.1.0) (5.0.1)\n",
            "Requirement already satisfied: validators in /usr/local/lib/python3.10/dist-packages (from streamlit==1.1.0) (0.20.0)\n",
            "Requirement already satisfied: gitpython!=3.1.19 in /usr/local/lib/python3.10/dist-packages (from streamlit==1.1.0) (3.1.31)\n",
            "Requirement already satisfied: watchdog in /usr/local/lib/python3.10/dist-packages (from streamlit==1.1.0) (3.0.0)\n",
            "Requirement already satisfied: entrypoints in /usr/local/lib/python3.10/dist-packages (from altair>=3.2.0->streamlit==1.1.0) (0.4)\n",
            "Requirement already satisfied: jinja2 in /usr/local/lib/python3.10/dist-packages (from altair>=3.2.0->streamlit==1.1.0) (3.1.2)\n",
            "Requirement already satisfied: jsonschema>=3.0 in /usr/local/lib/python3.10/dist-packages (from altair>=3.2.0->streamlit==1.1.0) (4.3.3)\n",
            "Requirement already satisfied: toolz in /usr/local/lib/python3.10/dist-packages (from altair>=3.2.0->streamlit==1.1.0) (0.12.0)\n",
            "Requirement already satisfied: gitdb<5,>=4.0.1 in /usr/local/lib/python3.10/dist-packages (from gitpython!=3.1.19->streamlit==1.1.0) (4.0.10)\n",
            "Requirement already satisfied: pytz>=2020.1 in /usr/local/lib/python3.10/dist-packages (from pandas>=0.21.0->streamlit==1.1.0) (2022.7.1)\n",
            "Requirement already satisfied: six>=1.5 in /usr/local/lib/python3.10/dist-packages (from python-dateutil->streamlit==1.1.0) (1.16.0)\n",
            "Requirement already satisfied: urllib3<1.27,>=1.21.1 in /usr/local/lib/python3.10/dist-packages (from requests->streamlit==1.1.0) (1.26.16)\n",
            "Requirement already satisfied: certifi>=2017.4.17 in /usr/local/lib/python3.10/dist-packages (from requests->streamlit==1.1.0) (2023.5.7)\n",
            "Requirement already satisfied: charset-normalizer~=2.0.0 in /usr/local/lib/python3.10/dist-packages (from requests->streamlit==1.1.0) (2.0.12)\n",
            "Requirement already satisfied: idna<4,>=2.5 in /usr/local/lib/python3.10/dist-packages (from requests->streamlit==1.1.0) (3.4)\n",
            "Requirement already satisfied: decorator>=3.4.0 in /usr/local/lib/python3.10/dist-packages (from validators->streamlit==1.1.0) (4.4.2)\n",
            "Requirement already satisfied: smmap<6,>=3.0.1 in /usr/local/lib/python3.10/dist-packages (from gitdb<5,>=4.0.1->gitpython!=3.1.19->streamlit==1.1.0) (5.0.0)\n",
            "Requirement already satisfied: MarkupSafe>=2.0 in /usr/local/lib/python3.10/dist-packages (from jinja2->altair>=3.2.0->streamlit==1.1.0) (2.1.3)\n",
            "Requirement already satisfied: pyrsistent!=0.17.0,!=0.17.1,!=0.17.2,>=0.14.0 in /usr/local/lib/python3.10/dist-packages (from jsonschema>=3.0->altair>=3.2.0->streamlit==1.1.0) (0.19.3)\n"
          ]
        }
      ],
      "source": [
        "!pip install streamlit==1.1.0"
      ]
    },
    {
      "cell_type": "code",
      "execution_count": null,
      "metadata": {
        "id": "EvjK38j4JrwW"
      },
      "outputs": [],
      "source": []
    },
    {
      "cell_type": "code",
      "execution_count": null,
      "metadata": {
        "colab": {
          "base_uri": "https://localhost:8080/"
        },
        "id": "aMgs86-saAKa",
        "outputId": "d2f82919-d6a5-4bd5-def1-6ef5a8044899"
      },
      "outputs": [
        {
          "output_type": "stream",
          "name": "stdout",
          "text": [
            "Requirement already satisfied: pyngrok==5.2.2 in /usr/local/lib/python3.10/dist-packages (5.2.2)\n",
            "Requirement already satisfied: PyYAML in /usr/local/lib/python3.10/dist-packages (from pyngrok==5.2.2) (6.0)\n"
          ]
        }
      ],
      "source": [
        "!pip install pyngrok==5.2.2"
      ]
    },
    {
      "cell_type": "code",
      "execution_count": null,
      "metadata": {
        "colab": {
          "base_uri": "https://localhost:8080/"
        },
        "id": "Plz_rArLaDqy",
        "outputId": "910160c6-29d2-4d92-99a7-faae7846deb4"
      },
      "outputs": [
        {
          "output_type": "stream",
          "name": "stdout",
          "text": [
            "Authtoken saved to configuration file: /root/.ngrok2/ngrok.yml\n"
          ]
        }
      ],
      "source": [
        "!ngrok authtoken 2Ltrxzr7all8wsh0grVdO7aQTIY_4pGibLxJNd6gHN1TCCP24"
      ]
    },
    {
      "cell_type": "code",
      "source": [
        "url=\"https://github.com/deepakmoud/LogisticRegressionDeployment/raw/main/logisticmodel.pkl\""
      ],
      "metadata": {
        "id": "8ceKIAqftBYC"
      },
      "execution_count": null,
      "outputs": []
    },
    {
      "cell_type": "code",
      "source": [
        "import urllib.request\n",
        "import pickle\n",
        "\n",
        "# URL of the pickle file on GitHub\n",
        "url = \"https://github.com/deepakmoud/LogisticRegressionDeployment/raw/main/logisticmodel.pkl\"\n",
        "\n",
        "# Download the pickle file\n",
        "response = urllib.request.urlopen(url)\n",
        "\n",
        "# Load the pickle file\n",
        "data = pickle.load(response)\n",
        "\n",
        "# Close the response\n",
        "response.close()\n",
        "\n",
        "# Now you can use the data from the pickle file\n",
        "# ..."
      ],
      "metadata": {
        "colab": {
          "base_uri": "https://localhost:8080/"
        },
        "id": "l5ICY5V9uaqA",
        "outputId": "fd4e9b5f-b5f2-4d58-87e4-ed51c242c052"
      },
      "execution_count": null,
      "outputs": [
        {
          "output_type": "stream",
          "name": "stderr",
          "text": [
            "/usr/local/lib/python3.10/dist-packages/sklearn/base.py:318: UserWarning: Trying to unpickle estimator LogisticRegression from version 0.22.2.post1 when using version 1.2.2. This might lead to breaking code or invalid results. Use at your own risk. For more info please refer to:\n",
            "https://scikit-learn.org/stable/model_persistence.html#security-maintainability-limitations\n",
            "  warnings.warn(\n"
          ]
        }
      ]
    },
    {
      "cell_type": "code",
      "execution_count": null,
      "metadata": {
        "colab": {
          "base_uri": "https://localhost:8080/"
        },
        "id": "kIIFR_c4ZZhK",
        "outputId": "4b7d7e81-7546-42a2-be61-230792e9890a"
      },
      "outputs": [
        {
          "output_type": "stream",
          "name": "stdout",
          "text": [
            "Overwriting app.py\n"
          ]
        }
      ],
      "source": [
        "%%writefile app.py\n",
        "import streamlit as st\n",
        "from PIL import Image\n",
        "import pickle\n",
        "import numpy as np\n",
        "import matplotlib.pyplot as plt\n",
        "import pandas as pd\n",
        "import urllib.request\n",
        "st.set_option('deprecation.showfileUploaderEncoding', False)\n",
        "# Load the pickled model\n",
        "# URL of the pickle file on GitHub\n",
        "url = \"https://github.com/deepakmoud/LogisticRegressionDeployment/raw/main/logisticmodel.pkl\"\n",
        "\n",
        "# Download the pickle file\n",
        "response = urllib.request.urlopen(url)\n",
        "model = pickle.load(response)\n",
        "# Feature Scaling\n",
        "dataset = pd.read_csv('https://raw.githubusercontent.com/deepakmoud/LogisticRegressionDeployment/main/Social_Network_Ads.csv')\n",
        "# Extracting independent variable:\n",
        "X = dataset.iloc[:, [1,2,3]].values\n",
        "# Encoding the Independent Variable\n",
        "from sklearn.preprocessing import LabelEncoder\n",
        "labelencoder_X = LabelEncoder()\n",
        "X[:, 0] = labelencoder_X.fit_transform(X[:, 0])\n",
        "from sklearn.preprocessing import StandardScaler\n",
        "sc = StandardScaler()\n",
        "X = sc.fit_transform(X)\n",
        "def predict_note_authentication(UserID, Gender,Age,EstimatedSalary):\n",
        "  output= model.predict(sc.transform([[Gender,Age,EstimatedSalary]]))\n",
        "  print(\"Purchased\", output)\n",
        "  if output==[1]:\n",
        "    prediction=\"Item will be purchased\"\n",
        "  else:\n",
        "    prediction=\"Item will not be purchased\"\n",
        "  print(prediction)\n",
        "  return prediction\n",
        "def main():\n",
        "\n",
        "    html_temp = \"\"\"\n",
        "   <div class=\"\" style=\"background-color:Brown;\" >\n",
        "   <div class=\"clearfix\">\n",
        "   <div class=\"col-md-12\">\n",
        "   <center><p style=\"font-size:40px;color:black;margin-top:10px;\">ML Deployment as a Web Service</p></center>\n",
        "   <center><p style=\"font-size:30px;color:black;margin-top:10px;\">Ml Deployment using streamlit</p></center>\n",
        "   <center><p style=\"font-size:25px;color:black;margin-top:10px;\">Logistic Regresion</p></center>\n",
        "   </div>\n",
        "   </div>\n",
        "   </div>\n",
        "   \"\"\"\n",
        "    st.markdown(html_temp,unsafe_allow_html=True)\n",
        "    st.header(\"Item Purchase Prediction using Logistic Classification\")\n",
        "\n",
        "    UserID = st.text_input(\"UserID\",\"\")\n",
        "\n",
        "    Gender1 = st.select_slider('Select a Gender Male:1 Female:0',options=['1', '0'])\n",
        "    #Gender1 = st.number_input('Insert Gender Male:1 Female:0')\n",
        "    Age = st.number_input('Insert a Age',18,60)\n",
        "\n",
        "    EstimatedSalary = st.number_input(\"Insert Estimated Salary\",15000,150000)\n",
        "    resul=\"\"\n",
        "    if st.button(\"Predict\"):\n",
        "      result=predict_note_authentication(UserID, Gender1,Age,EstimatedSalary)\n",
        "      st.success('Model has predicted {}'.format(result))\n",
        "\n",
        "    if st.button(\"About\"):\n",
        "      st.subheader(\"Developed by Deepak Moud\")\n",
        "      st.subheader(\"Trainer Machine learning\")\n",
        "\n",
        "if __name__=='__main__':\n",
        "  main()"
      ]
    },
    {
      "cell_type": "code",
      "execution_count": null,
      "metadata": {
        "colab": {
          "base_uri": "https://localhost:8080/"
        },
        "id": "41jf3qqgZc4D",
        "outputId": "d34ef773-1eb0-44fc-ebcc-731c94ae44d6"
      },
      "outputs": [
        {
          "name": "stdout",
          "output_type": "stream",
          "text": [
            "nohup: appending output to 'nohup.out'\n"
          ]
        }
      ],
      "source": [
        "!nohup streamlit run  app.py &"
      ]
    },
    {
      "cell_type": "code",
      "execution_count": null,
      "metadata": {
        "colab": {
          "base_uri": "https://localhost:8080/"
        },
        "id": "kmaNH14QZh5A",
        "outputId": "7d157e19-e5c5-4602-cc0e-832f54fc9e2c"
      },
      "outputs": [
        {
          "output_type": "execute_result",
          "data": {
            "text/plain": [
              "<NgrokTunnel: \"http://ff69-34-138-204-157.ngrok-free.app\" -> \"http://localhost:80\">"
            ]
          },
          "metadata": {},
          "execution_count": 18
        }
      ],
      "source": [
        "from pyngrok import ngrok\n",
        "url=ngrok.connect(port='8050')\n",
        "url"
      ]
    },
    {
      "cell_type": "code",
      "execution_count": null,
      "metadata": {
        "colab": {
          "base_uri": "https://localhost:8080/"
        },
        "id": "o_24aARjZlF6",
        "outputId": "f3458a20-fd02-4265-c1e2-6b5a870d4c4c"
      },
      "outputs": [
        {
          "output_type": "stream",
          "name": "stdout",
          "text": [
            "2023-07-05 11:21:27.876 INFO    numexpr.utils: NumExpr defaulting to 2 threads.\n",
            "\u001b[0m\n",
            "\u001b[34m\u001b[1m  You can now view your Streamlit app in your browser.\u001b[0m\n",
            "\u001b[0m\n",
            "\u001b[34m  Network URL: \u001b[0m\u001b[1mhttp://172.28.0.12:80\u001b[0m\n",
            "\u001b[34m  External URL: \u001b[0m\u001b[1mhttp://34.138.204.157:80\u001b[0m\n",
            "\u001b[0m\n",
            "/usr/local/lib/python3.10/dist-packages/sklearn/base.py:318: UserWarning: Trying to unpickle estimator LogisticRegression from version 0.22.2.post1 when using version 1.2.2. This might lead to breaking code or invalid results. Use at your own risk. For more info please refer to:\n",
            "https://scikit-learn.org/stable/model_persistence.html#security-maintainability-limitations\n",
            "  warnings.warn(\n",
            "/usr/local/lib/python3.10/dist-packages/sklearn/base.py:318: UserWarning: Trying to unpickle estimator LogisticRegression from version 0.22.2.post1 when using version 1.2.2. This might lead to breaking code or invalid results. Use at your own risk. For more info please refer to:\n",
            "https://scikit-learn.org/stable/model_persistence.html#security-maintainability-limitations\n",
            "  warnings.warn(\n",
            "/usr/local/lib/python3.10/dist-packages/sklearn/base.py:318: UserWarning: Trying to unpickle estimator LogisticRegression from version 0.22.2.post1 when using version 1.2.2. This might lead to breaking code or invalid results. Use at your own risk. For more info please refer to:\n",
            "https://scikit-learn.org/stable/model_persistence.html#security-maintainability-limitations\n",
            "  warnings.warn(\n",
            "Purchased [0]\n",
            "Item will not be purchased\n",
            "/usr/local/lib/python3.10/dist-packages/sklearn/base.py:318: UserWarning: Trying to unpickle estimator LogisticRegression from version 0.22.2.post1 when using version 1.2.2. This might lead to breaking code or invalid results. Use at your own risk. For more info please refer to:\n",
            "https://scikit-learn.org/stable/model_persistence.html#security-maintainability-limitations\n",
            "  warnings.warn(\n",
            "/usr/local/lib/python3.10/dist-packages/sklearn/base.py:318: UserWarning: Trying to unpickle estimator LogisticRegression from version 0.22.2.post1 when using version 1.2.2. This might lead to breaking code or invalid results. Use at your own risk. For more info please refer to:\n",
            "https://scikit-learn.org/stable/model_persistence.html#security-maintainability-limitations\n",
            "  warnings.warn(\n",
            "/usr/local/lib/python3.10/dist-packages/sklearn/base.py:318: UserWarning: Trying to unpickle estimator LogisticRegression from version 0.22.2.post1 when using version 1.2.2. This might lead to breaking code or invalid results. Use at your own risk. For more info please refer to:\n",
            "https://scikit-learn.org/stable/model_persistence.html#security-maintainability-limitations\n",
            "  warnings.warn(\n",
            "Purchased [0]\n",
            "Item will not be purchased\n",
            "\u001b[34m  Stopping...\u001b[0m\n",
            "\u001b[34m  Stopping...\u001b[0m\n"
          ]
        }
      ],
      "source": [
        "!streamlit run --server.port 80 app.py"
      ]
    },
    {
      "cell_type": "markdown",
      "source": [
        "https://streamlit.io/"
      ],
      "metadata": {
        "id": "O3EnlGd7y_vF"
      }
    }
  ],
  "metadata": {
    "colab": {
      "provenance": []
    },
    "kernelspec": {
      "display_name": "Python 3",
      "name": "python3"
    },
    "language_info": {
      "name": "python"
    }
  },
  "nbformat": 4,
  "nbformat_minor": 0
}