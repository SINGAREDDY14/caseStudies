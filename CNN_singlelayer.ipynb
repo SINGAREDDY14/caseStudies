{
  "nbformat": 4,
  "nbformat_minor": 0,
  "metadata": {
    "colab": {
      "provenance": []
    },
    "kernelspec": {
      "name": "python3",
      "display_name": "Python 3"
    },
    "language_info": {
      "name": "python"
    }
  },
  "cells": [
    {
      "cell_type": "markdown",
      "source": [
        "# **Create a Sample code snippet for convolution using Keras **"
      ],
      "metadata": {
        "id": "YVwwwzjWn9eM"
      }
    },
    {
      "cell_type": "code",
      "source": [
        "import keras.backend as K\n",
        "import numpy as np\n",
        "from keras import Input, layers\n",
        "from keras.models import Model\n",
        "import tensorflow as tf"
      ],
      "metadata": {
        "id": "WmgqnzsetS_8"
      },
      "execution_count": null,
      "outputs": []
    },
    {
      "cell_type": "code",
      "source": [
        "# custom filter\n",
        "def my_filter(shape, dtype=None):\n",
        "\n",
        "    \n",
        "    f = np.array([\n",
        "            [[[1]], [[-1]], [[-1]]],\n",
        "            [[[-1]], [[1]], [[-1]]],\n",
        "            [[[-1]], [[-1]], [[1]]]\n",
        "        ])\n",
        "    assert f.shape == shape\n",
        "    return K.variable(f, dtype='float32')"
      ],
      "metadata": {
        "id": "tl1EFq6VtWK3"
      },
      "execution_count": null,
      "outputs": []
    },
    {
      "cell_type": "code",
      "source": [
        "input_mat = np.array([\n",
        "    [ [1], [0], [0], [0], [0], [1] ],\n",
        "    [ [0], [1], [0], [0], [1], [0] ],\n",
        "    [ [0], [0], [1], [1], [0], [0] ],\n",
        "    [ [1], [0], [0], [0], [1], [0] ],\n",
        "    [ [0], [1], [0], [0], [1], [0] ],\n",
        "    [ [0], [0], [1], [0], [1], [0] ]\n",
        "])\n",
        "\n",
        "\n",
        "# we need to give the batch size. \n",
        "# here we will just add a dimension at the beginning which makes batch size=1\n",
        "input_mat = input_mat.reshape((1, 6, 6, 1))"
      ],
      "metadata": {
        "id": "PsE4aG5ota9H"
      },
      "execution_count": null,
      "outputs": []
    },
    {
      "cell_type": "code",
      "source": [
        "def build_model():\n",
        "    input_tensor = Input(shape=(6,6,1))\n",
        "\n",
        "    x = layers.Conv2D(filters=1, \n",
        "                      kernel_size = 3,\n",
        "                      kernel_initializer=my_filter,\n",
        "                      strides=1, \n",
        "                      # padding='valid') (input_tensor)   ##For no padding\n",
        "                      padding='same') (input_tensor)   ##For same padding\n",
        "    \n",
        "\n",
        "    # x = tf.keras.layers.MaxPooling2D(pool_size=(3, 3), strides=(2, 2), padding='valid')(x)  ##Max pool\n",
        "    x = tf.keras.layers.AveragePooling2D(pool_size=(3, 3), strides=(2, 2), padding='valid')(x)  ##Average pool\n",
        "\n",
        "    model = Model(inputs=input_tensor, outputs=x)\n",
        "    return model\n",
        "\n"
      ],
      "metadata": {
        "id": "6inphUEWteTm"
      },
      "execution_count": null,
      "outputs": []
    },
    {
      "cell_type": "code",
      "source": [
        "model = build_model()\n",
        "out = model.predict(input_mat)\n",
        "print(np.squeeze(out))"
      ],
      "metadata": {
        "colab": {
          "base_uri": "https://localhost:8080/"
        },
        "id": "EVPMQSOutg7j",
        "outputId": "710db6ba-0c3f-4cc2-8ec7-019b8ee630d4"
      },
      "execution_count": null,
      "outputs": [
        {
          "output_type": "stream",
          "name": "stdout",
          "text": [
            "1/1 [==============================] - 0s 41ms/step\n",
            "[[-0.5555556 -1.       ]\n",
            " [-1.        -1.       ]]\n"
          ]
        }
      ]
    }
  ]
}